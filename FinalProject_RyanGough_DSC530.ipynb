{
 "cells": [
  {
   "cell_type": "code",
   "execution_count": 206,
   "metadata": {},
   "outputs": [],
   "source": [
    "# Milestone 2\n",
    "# Importing libraries and loading the data by using a command\n",
    "\n",
    "# Identify Outliers through an IQR score\n",
    "from __future__ import print_function, division\n",
    "\n",
    "from scipy import stats\n",
    "from scipy.stats import spearmanr\n",
    "import pandas as pd\n",
    "import numpy as np\n",
    "import matplotlib.pyplot as plt\n",
    "import thinkplot\n",
    "import thinkstats2\n",
    "%matplotlib inline\n",
    "\n",
    "from IPython.core.interactiveshell import InteractiveShell\n",
    "InteractiveShell.ast_node_interactivity = \"all\""
   ]
  },
  {
   "cell_type": "code",
   "execution_count": 2,
   "metadata": {},
   "outputs": [],
   "source": [
    "import os\n",
    "#os.getcwd()\n",
    "os.chdir('/Users/ryangough/Documents/GitHub/Data-Wrangling-with-Python') # change in working directory\n",
    "\n",
    "import sys\n",
    "sys.path.append('/Users/ryangough/Documents/GitHub/Data-Wrangling-with-Python/Lesson05/Activity07')"
   ]
  },
  {
   "cell_type": "code",
   "execution_count": 3,
   "metadata": {
    "scrolled": true
   },
   "outputs": [
    {
     "data": {
      "text/html": [
       "<div>\n",
       "<style scoped>\n",
       "    .dataframe tbody tr th:only-of-type {\n",
       "        vertical-align: middle;\n",
       "    }\n",
       "\n",
       "    .dataframe tbody tr th {\n",
       "        vertical-align: top;\n",
       "    }\n",
       "\n",
       "    .dataframe thead th {\n",
       "        text-align: right;\n",
       "    }\n",
       "</style>\n",
       "<table border=\"1\" class=\"dataframe\">\n",
       "  <thead>\n",
       "    <tr style=\"text-align: right;\">\n",
       "      <th></th>\n",
       "      <th>date</th>\n",
       "      <th>location</th>\n",
       "      <th>new_cases</th>\n",
       "      <th>new_deaths</th>\n",
       "      <th>total_cases</th>\n",
       "      <th>total_deaths</th>\n",
       "      <th>weekly_cases</th>\n",
       "      <th>weekly_deaths</th>\n",
       "      <th>biweekly_cases</th>\n",
       "      <th>biweekly_deaths</th>\n",
       "    </tr>\n",
       "  </thead>\n",
       "  <tbody>\n",
       "    <tr>\n",
       "      <th>0</th>\n",
       "      <td>2019-12-31</td>\n",
       "      <td>Afghanistan</td>\n",
       "      <td>0.0</td>\n",
       "      <td>0.0</td>\n",
       "      <td>NaN</td>\n",
       "      <td>NaN</td>\n",
       "      <td>NaN</td>\n",
       "      <td>NaN</td>\n",
       "      <td>NaN</td>\n",
       "      <td>NaN</td>\n",
       "    </tr>\n",
       "    <tr>\n",
       "      <th>1</th>\n",
       "      <td>2020-01-01</td>\n",
       "      <td>Afghanistan</td>\n",
       "      <td>0.0</td>\n",
       "      <td>0.0</td>\n",
       "      <td>NaN</td>\n",
       "      <td>NaN</td>\n",
       "      <td>NaN</td>\n",
       "      <td>NaN</td>\n",
       "      <td>NaN</td>\n",
       "      <td>NaN</td>\n",
       "    </tr>\n",
       "    <tr>\n",
       "      <th>2</th>\n",
       "      <td>2020-01-02</td>\n",
       "      <td>Afghanistan</td>\n",
       "      <td>0.0</td>\n",
       "      <td>0.0</td>\n",
       "      <td>NaN</td>\n",
       "      <td>NaN</td>\n",
       "      <td>NaN</td>\n",
       "      <td>NaN</td>\n",
       "      <td>NaN</td>\n",
       "      <td>NaN</td>\n",
       "    </tr>\n",
       "    <tr>\n",
       "      <th>3</th>\n",
       "      <td>2020-01-03</td>\n",
       "      <td>Afghanistan</td>\n",
       "      <td>0.0</td>\n",
       "      <td>0.0</td>\n",
       "      <td>NaN</td>\n",
       "      <td>NaN</td>\n",
       "      <td>NaN</td>\n",
       "      <td>NaN</td>\n",
       "      <td>NaN</td>\n",
       "      <td>NaN</td>\n",
       "    </tr>\n",
       "    <tr>\n",
       "      <th>4</th>\n",
       "      <td>2020-01-04</td>\n",
       "      <td>Afghanistan</td>\n",
       "      <td>0.0</td>\n",
       "      <td>0.0</td>\n",
       "      <td>NaN</td>\n",
       "      <td>NaN</td>\n",
       "      <td>NaN</td>\n",
       "      <td>NaN</td>\n",
       "      <td>NaN</td>\n",
       "      <td>NaN</td>\n",
       "    </tr>\n",
       "  </tbody>\n",
       "</table>\n",
       "</div>"
      ],
      "text/plain": [
       "         date     location  new_cases  new_deaths  total_cases  total_deaths  \\\n",
       "0  2019-12-31  Afghanistan        0.0         0.0          NaN           NaN   \n",
       "1  2020-01-01  Afghanistan        0.0         0.0          NaN           NaN   \n",
       "2  2020-01-02  Afghanistan        0.0         0.0          NaN           NaN   \n",
       "3  2020-01-03  Afghanistan        0.0         0.0          NaN           NaN   \n",
       "4  2020-01-04  Afghanistan        0.0         0.0          NaN           NaN   \n",
       "\n",
       "   weekly_cases  weekly_deaths  biweekly_cases  biweekly_deaths  \n",
       "0           NaN            NaN             NaN              NaN  \n",
       "1           NaN            NaN             NaN              NaN  \n",
       "2           NaN            NaN             NaN              NaN  \n",
       "3           NaN            NaN             NaN              NaN  \n",
       "4           NaN            NaN             NaN              NaN  "
      ]
     },
     "execution_count": 3,
     "metadata": {},
     "output_type": "execute_result"
    }
   ],
   "source": [
    "# Opening the csv by using the command\n",
    "\n",
    "\n",
    "df = pd.read_csv(\"/Users/ryangough/Documents/GitHub/covid-19-data/public/data/ecdc/full_data.csv\")\n",
    "df.head()"
   ]
  },
  {
   "cell_type": "code",
   "execution_count": null,
   "metadata": {},
   "outputs": [],
   "source": [
    "# A minimum of 5 variables in your dataset used during your analysis (for help with selecting, the author made his selection on page 6 of your book). \n",
    "# Consider what you think could have an impact on your question – remember this is never perfect, so don’t be worried if you miss one (Chapter 1)."
   ]
  },
  {
   "cell_type": "code",
   "execution_count": 4,
   "metadata": {},
   "outputs": [],
   "source": [
    "Afghanistan_df = df[df['location'].isin(['Afghanistan'])] # Created a new dataframe with the relevant locations \n",
    "United_States_df = df[df['location'].isin(['United States'])]\n",
    "United_Kingdom_df = df[df['location'].isin(['United Kingdom'])]\n",
    "United_Arab_Emirates_df = df[df['location'].isin(['United Arab Emirates'])]\n",
    "Russia_df = df[df['location'].isin(['Russia'])]\n",
    "Brazil_df = df[df['location'].isin(['Brazil'])]\n",
    "Peru_df = df[df['location'].isin(['Peru'])]\n",
    "Ireland_df = df[df['location'].isin(['Ireland'])]\n",
    "Israel_df = df[df['location'].isin(['Israel'])]\n",
    "China_df = df[df['location'].isin(['China'])]\n",
    "\n",
    "World_df = df[df['location'].isin(['World'])]"
   ]
  },
  {
   "cell_type": "code",
   "execution_count": 5,
   "metadata": {},
   "outputs": [
    {
     "data": {
      "text/html": [
       "<div>\n",
       "<style scoped>\n",
       "    .dataframe tbody tr th:only-of-type {\n",
       "        vertical-align: middle;\n",
       "    }\n",
       "\n",
       "    .dataframe tbody tr th {\n",
       "        vertical-align: top;\n",
       "    }\n",
       "\n",
       "    .dataframe thead th {\n",
       "        text-align: right;\n",
       "    }\n",
       "</style>\n",
       "<table border=\"1\" class=\"dataframe\">\n",
       "  <thead>\n",
       "    <tr style=\"text-align: right;\">\n",
       "      <th></th>\n",
       "      <th>date</th>\n",
       "      <th>location</th>\n",
       "      <th>new_cases</th>\n",
       "      <th>new_deaths</th>\n",
       "      <th>total_cases</th>\n",
       "      <th>total_deaths</th>\n",
       "      <th>weekly_cases</th>\n",
       "      <th>weekly_deaths</th>\n",
       "      <th>biweekly_cases</th>\n",
       "      <th>biweekly_deaths</th>\n",
       "    </tr>\n",
       "  </thead>\n",
       "  <tbody>\n",
       "    <tr>\n",
       "      <th>58275</th>\n",
       "      <td>2019-12-31</td>\n",
       "      <td>World</td>\n",
       "      <td>27.0</td>\n",
       "      <td>0.0</td>\n",
       "      <td>27.0</td>\n",
       "      <td>NaN</td>\n",
       "      <td>NaN</td>\n",
       "      <td>NaN</td>\n",
       "      <td>NaN</td>\n",
       "      <td>NaN</td>\n",
       "    </tr>\n",
       "    <tr>\n",
       "      <th>58276</th>\n",
       "      <td>2020-01-01</td>\n",
       "      <td>World</td>\n",
       "      <td>0.0</td>\n",
       "      <td>0.0</td>\n",
       "      <td>27.0</td>\n",
       "      <td>NaN</td>\n",
       "      <td>NaN</td>\n",
       "      <td>NaN</td>\n",
       "      <td>NaN</td>\n",
       "      <td>NaN</td>\n",
       "    </tr>\n",
       "    <tr>\n",
       "      <th>58277</th>\n",
       "      <td>2020-01-02</td>\n",
       "      <td>World</td>\n",
       "      <td>0.0</td>\n",
       "      <td>0.0</td>\n",
       "      <td>27.0</td>\n",
       "      <td>NaN</td>\n",
       "      <td>NaN</td>\n",
       "      <td>NaN</td>\n",
       "      <td>NaN</td>\n",
       "      <td>NaN</td>\n",
       "    </tr>\n",
       "    <tr>\n",
       "      <th>58278</th>\n",
       "      <td>2020-01-03</td>\n",
       "      <td>World</td>\n",
       "      <td>17.0</td>\n",
       "      <td>0.0</td>\n",
       "      <td>44.0</td>\n",
       "      <td>NaN</td>\n",
       "      <td>NaN</td>\n",
       "      <td>NaN</td>\n",
       "      <td>NaN</td>\n",
       "      <td>NaN</td>\n",
       "    </tr>\n",
       "    <tr>\n",
       "      <th>58279</th>\n",
       "      <td>2020-01-04</td>\n",
       "      <td>World</td>\n",
       "      <td>0.0</td>\n",
       "      <td>0.0</td>\n",
       "      <td>44.0</td>\n",
       "      <td>NaN</td>\n",
       "      <td>NaN</td>\n",
       "      <td>NaN</td>\n",
       "      <td>NaN</td>\n",
       "      <td>NaN</td>\n",
       "    </tr>\n",
       "    <tr>\n",
       "      <th>...</th>\n",
       "      <td>...</td>\n",
       "      <td>...</td>\n",
       "      <td>...</td>\n",
       "      <td>...</td>\n",
       "      <td>...</td>\n",
       "      <td>...</td>\n",
       "      <td>...</td>\n",
       "      <td>...</td>\n",
       "      <td>...</td>\n",
       "      <td>...</td>\n",
       "    </tr>\n",
       "    <tr>\n",
       "      <th>58605</th>\n",
       "      <td>2020-11-25</td>\n",
       "      <td>World</td>\n",
       "      <td>561704.0</td>\n",
       "      <td>12159.0</td>\n",
       "      <td>59903030.0</td>\n",
       "      <td>1410788.0</td>\n",
       "      <td>4132630.0</td>\n",
       "      <td>70483.0</td>\n",
       "      <td>8275937.0</td>\n",
       "      <td>135189.0</td>\n",
       "    </tr>\n",
       "    <tr>\n",
       "      <th>58606</th>\n",
       "      <td>2020-11-26</td>\n",
       "      <td>World</td>\n",
       "      <td>649666.0</td>\n",
       "      <td>12583.0</td>\n",
       "      <td>60552696.0</td>\n",
       "      <td>1423371.0</td>\n",
       "      <td>4156526.0</td>\n",
       "      <td>71978.0</td>\n",
       "      <td>8302092.0</td>\n",
       "      <td>137164.0</td>\n",
       "    </tr>\n",
       "    <tr>\n",
       "      <th>58607</th>\n",
       "      <td>2020-11-27</td>\n",
       "      <td>World</td>\n",
       "      <td>549900.0</td>\n",
       "      <td>10638.0</td>\n",
       "      <td>61102596.0</td>\n",
       "      <td>1434009.0</td>\n",
       "      <td>4065456.0</td>\n",
       "      <td>71906.0</td>\n",
       "      <td>8204493.0</td>\n",
       "      <td>138650.0</td>\n",
       "    </tr>\n",
       "    <tr>\n",
       "      <th>58608</th>\n",
       "      <td>2020-11-28</td>\n",
       "      <td>World</td>\n",
       "      <td>616139.0</td>\n",
       "      <td>10333.0</td>\n",
       "      <td>61718735.0</td>\n",
       "      <td>1444342.0</td>\n",
       "      <td>4001837.0</td>\n",
       "      <td>70245.0</td>\n",
       "      <td>8184803.0</td>\n",
       "      <td>138987.0</td>\n",
       "    </tr>\n",
       "    <tr>\n",
       "      <th>58609</th>\n",
       "      <td>2020-11-29</td>\n",
       "      <td>World</td>\n",
       "      <td>552296.0</td>\n",
       "      <td>9189.0</td>\n",
       "      <td>62271031.0</td>\n",
       "      <td>1453531.0</td>\n",
       "      <td>3982090.0</td>\n",
       "      <td>70980.0</td>\n",
       "      <td>8142629.0</td>\n",
       "      <td>139209.0</td>\n",
       "    </tr>\n",
       "  </tbody>\n",
       "</table>\n",
       "<p>335 rows × 10 columns</p>\n",
       "</div>"
      ],
      "text/plain": [
       "             date location  new_cases  new_deaths  total_cases  total_deaths  \\\n",
       "58275  2019-12-31    World       27.0         0.0         27.0           NaN   \n",
       "58276  2020-01-01    World        0.0         0.0         27.0           NaN   \n",
       "58277  2020-01-02    World        0.0         0.0         27.0           NaN   \n",
       "58278  2020-01-03    World       17.0         0.0         44.0           NaN   \n",
       "58279  2020-01-04    World        0.0         0.0         44.0           NaN   \n",
       "...           ...      ...        ...         ...          ...           ...   \n",
       "58605  2020-11-25    World   561704.0     12159.0   59903030.0     1410788.0   \n",
       "58606  2020-11-26    World   649666.0     12583.0   60552696.0     1423371.0   \n",
       "58607  2020-11-27    World   549900.0     10638.0   61102596.0     1434009.0   \n",
       "58608  2020-11-28    World   616139.0     10333.0   61718735.0     1444342.0   \n",
       "58609  2020-11-29    World   552296.0      9189.0   62271031.0     1453531.0   \n",
       "\n",
       "       weekly_cases  weekly_deaths  biweekly_cases  biweekly_deaths  \n",
       "58275           NaN            NaN             NaN              NaN  \n",
       "58276           NaN            NaN             NaN              NaN  \n",
       "58277           NaN            NaN             NaN              NaN  \n",
       "58278           NaN            NaN             NaN              NaN  \n",
       "58279           NaN            NaN             NaN              NaN  \n",
       "...             ...            ...             ...              ...  \n",
       "58605     4132630.0        70483.0       8275937.0         135189.0  \n",
       "58606     4156526.0        71978.0       8302092.0         137164.0  \n",
       "58607     4065456.0        71906.0       8204493.0         138650.0  \n",
       "58608     4001837.0        70245.0       8184803.0         138987.0  \n",
       "58609     3982090.0        70980.0       8142629.0         139209.0  \n",
       "\n",
       "[335 rows x 10 columns]"
      ]
     },
     "execution_count": 5,
     "metadata": {},
     "output_type": "execute_result"
    }
   ],
   "source": [
    "World_df"
   ]
  },
  {
   "cell_type": "code",
   "execution_count": 204,
   "metadata": {},
   "outputs": [
    {
     "data": {
      "text/html": [
       "<div>\n",
       "<style scoped>\n",
       "    .dataframe tbody tr th:only-of-type {\n",
       "        vertical-align: middle;\n",
       "    }\n",
       "\n",
       "    .dataframe tbody tr th {\n",
       "        vertical-align: top;\n",
       "    }\n",
       "\n",
       "    .dataframe thead th {\n",
       "        text-align: right;\n",
       "    }\n",
       "</style>\n",
       "<table border=\"1\" class=\"dataframe\">\n",
       "  <thead>\n",
       "    <tr style=\"text-align: right;\">\n",
       "      <th></th>\n",
       "      <th>date</th>\n",
       "      <th>location</th>\n",
       "      <th>new_cases</th>\n",
       "      <th>new_deaths</th>\n",
       "      <th>total_cases</th>\n",
       "      <th>total_deaths</th>\n",
       "      <th>weekly_cases</th>\n",
       "      <th>weekly_deaths</th>\n",
       "      <th>biweekly_cases</th>\n",
       "      <th>biweekly_deaths</th>\n",
       "    </tr>\n",
       "  </thead>\n",
       "  <tbody>\n",
       "    <tr>\n",
       "      <th>26906</th>\n",
       "      <td>2019-12-31</td>\n",
       "      <td>Israel</td>\n",
       "      <td>0.0</td>\n",
       "      <td>0.0</td>\n",
       "      <td>NaN</td>\n",
       "      <td>NaN</td>\n",
       "      <td>NaN</td>\n",
       "      <td>NaN</td>\n",
       "      <td>NaN</td>\n",
       "      <td>NaN</td>\n",
       "    </tr>\n",
       "    <tr>\n",
       "      <th>26907</th>\n",
       "      <td>2020-01-01</td>\n",
       "      <td>Israel</td>\n",
       "      <td>0.0</td>\n",
       "      <td>0.0</td>\n",
       "      <td>NaN</td>\n",
       "      <td>NaN</td>\n",
       "      <td>NaN</td>\n",
       "      <td>NaN</td>\n",
       "      <td>NaN</td>\n",
       "      <td>NaN</td>\n",
       "    </tr>\n",
       "    <tr>\n",
       "      <th>26908</th>\n",
       "      <td>2020-01-02</td>\n",
       "      <td>Israel</td>\n",
       "      <td>0.0</td>\n",
       "      <td>0.0</td>\n",
       "      <td>NaN</td>\n",
       "      <td>NaN</td>\n",
       "      <td>NaN</td>\n",
       "      <td>NaN</td>\n",
       "      <td>NaN</td>\n",
       "      <td>NaN</td>\n",
       "    </tr>\n",
       "    <tr>\n",
       "      <th>26909</th>\n",
       "      <td>2020-01-03</td>\n",
       "      <td>Israel</td>\n",
       "      <td>0.0</td>\n",
       "      <td>0.0</td>\n",
       "      <td>NaN</td>\n",
       "      <td>NaN</td>\n",
       "      <td>NaN</td>\n",
       "      <td>NaN</td>\n",
       "      <td>NaN</td>\n",
       "      <td>NaN</td>\n",
       "    </tr>\n",
       "    <tr>\n",
       "      <th>26910</th>\n",
       "      <td>2020-01-04</td>\n",
       "      <td>Israel</td>\n",
       "      <td>0.0</td>\n",
       "      <td>0.0</td>\n",
       "      <td>NaN</td>\n",
       "      <td>NaN</td>\n",
       "      <td>NaN</td>\n",
       "      <td>NaN</td>\n",
       "      <td>NaN</td>\n",
       "      <td>NaN</td>\n",
       "    </tr>\n",
       "    <tr>\n",
       "      <th>...</th>\n",
       "      <td>...</td>\n",
       "      <td>...</td>\n",
       "      <td>...</td>\n",
       "      <td>...</td>\n",
       "      <td>...</td>\n",
       "      <td>...</td>\n",
       "      <td>...</td>\n",
       "      <td>...</td>\n",
       "      <td>...</td>\n",
       "      <td>...</td>\n",
       "    </tr>\n",
       "    <tr>\n",
       "      <th>27236</th>\n",
       "      <td>2020-11-25</td>\n",
       "      <td>Israel</td>\n",
       "      <td>849.0</td>\n",
       "      <td>11.0</td>\n",
       "      <td>331179.0</td>\n",
       "      <td>2822.0</td>\n",
       "      <td>5317.0</td>\n",
       "      <td>87.0</td>\n",
       "      <td>10330.0</td>\n",
       "      <td>139.0</td>\n",
       "    </tr>\n",
       "    <tr>\n",
       "      <th>27237</th>\n",
       "      <td>2020-11-26</td>\n",
       "      <td>Israel</td>\n",
       "      <td>1138.0</td>\n",
       "      <td>4.0</td>\n",
       "      <td>332317.0</td>\n",
       "      <td>2826.0</td>\n",
       "      <td>5986.0</td>\n",
       "      <td>87.0</td>\n",
       "      <td>10991.0</td>\n",
       "      <td>126.0</td>\n",
       "    </tr>\n",
       "    <tr>\n",
       "      <th>27238</th>\n",
       "      <td>2020-11-27</td>\n",
       "      <td>Israel</td>\n",
       "      <td>1126.0</td>\n",
       "      <td>8.0</td>\n",
       "      <td>333443.0</td>\n",
       "      <td>2834.0</td>\n",
       "      <td>6036.0</td>\n",
       "      <td>92.0</td>\n",
       "      <td>11284.0</td>\n",
       "      <td>128.0</td>\n",
       "    </tr>\n",
       "    <tr>\n",
       "      <th>27239</th>\n",
       "      <td>2020-11-28</td>\n",
       "      <td>Israel</td>\n",
       "      <td>359.0</td>\n",
       "      <td>5.0</td>\n",
       "      <td>333802.0</td>\n",
       "      <td>2839.0</td>\n",
       "      <td>6054.0</td>\n",
       "      <td>95.0</td>\n",
       "      <td>11107.0</td>\n",
       "      <td>123.0</td>\n",
       "    </tr>\n",
       "    <tr>\n",
       "      <th>27240</th>\n",
       "      <td>2020-11-29</td>\n",
       "      <td>Israel</td>\n",
       "      <td>1196.0</td>\n",
       "      <td>15.0</td>\n",
       "      <td>334998.0</td>\n",
       "      <td>2854.0</td>\n",
       "      <td>6601.0</td>\n",
       "      <td>97.0</td>\n",
       "      <td>11538.0</td>\n",
       "      <td>133.0</td>\n",
       "    </tr>\n",
       "  </tbody>\n",
       "</table>\n",
       "<p>335 rows × 10 columns</p>\n",
       "</div>"
      ],
      "text/plain": [
       "             date location  new_cases  new_deaths  total_cases  total_deaths  \\\n",
       "26906  2019-12-31   Israel        0.0         0.0          NaN           NaN   \n",
       "26907  2020-01-01   Israel        0.0         0.0          NaN           NaN   \n",
       "26908  2020-01-02   Israel        0.0         0.0          NaN           NaN   \n",
       "26909  2020-01-03   Israel        0.0         0.0          NaN           NaN   \n",
       "26910  2020-01-04   Israel        0.0         0.0          NaN           NaN   \n",
       "...           ...      ...        ...         ...          ...           ...   \n",
       "27236  2020-11-25   Israel      849.0        11.0     331179.0        2822.0   \n",
       "27237  2020-11-26   Israel     1138.0         4.0     332317.0        2826.0   \n",
       "27238  2020-11-27   Israel     1126.0         8.0     333443.0        2834.0   \n",
       "27239  2020-11-28   Israel      359.0         5.0     333802.0        2839.0   \n",
       "27240  2020-11-29   Israel     1196.0        15.0     334998.0        2854.0   \n",
       "\n",
       "       weekly_cases  weekly_deaths  biweekly_cases  biweekly_deaths  \n",
       "26906           NaN            NaN             NaN              NaN  \n",
       "26907           NaN            NaN             NaN              NaN  \n",
       "26908           NaN            NaN             NaN              NaN  \n",
       "26909           NaN            NaN             NaN              NaN  \n",
       "26910           NaN            NaN             NaN              NaN  \n",
       "...             ...            ...             ...              ...  \n",
       "27236        5317.0           87.0         10330.0            139.0  \n",
       "27237        5986.0           87.0         10991.0            126.0  \n",
       "27238        6036.0           92.0         11284.0            128.0  \n",
       "27239        6054.0           95.0         11107.0            123.0  \n",
       "27240        6601.0           97.0         11538.0            133.0  \n",
       "\n",
       "[335 rows x 10 columns]"
      ]
     },
     "execution_count": 204,
     "metadata": {},
     "output_type": "execute_result"
    }
   ],
   "source": [
    "Israel_df"
   ]
  },
  {
   "cell_type": "code",
   "execution_count": 6,
   "metadata": {},
   "outputs": [],
   "source": [
    "# Describe what the 5 variables mean in the dataset (Chapter 1).\n",
    "\n",
    "# Each dataframe is seperated by Country as well as a combined dataframe for the world. Each data frame has the date, cases, and deaths. "
   ]
  },
  {
   "cell_type": "code",
   "execution_count": 7,
   "metadata": {},
   "outputs": [],
   "source": [
    "# Include a histogram of each of the 5 variables – in your summary and analysis, identify any outliers and explain the reasoning for them being outliers and how you believe they should be handled (Chapter 2).\n",
    "\n",
    "# I do believe that there are outliers and understanding the explosive nature of the pandemic with rates of exponential spreading, I would not be surprised if there are outliers. I choose to include them as it is a measurement of rates of transmission and goverment prevention efforts. "
   ]
  },
  {
   "cell_type": "code",
   "execution_count": 81,
   "metadata": {},
   "outputs": [
    {
     "data": {
      "text/plain": [
       "<AxesSubplot:ylabel='Frequency'>"
      ]
     },
     "execution_count": 81,
     "metadata": {},
     "output_type": "execute_result"
    },
    {
     "data": {
      "text/plain": [
       "Text(0.5, 1.0, 'Deaths through the Covid-19 Pandemic \"World\"')"
      ]
     },
     "execution_count": 81,
     "metadata": {},
     "output_type": "execute_result"
    },
    {
     "data": {
      "text/plain": [
       "Text(0.5, 0, 'Total Amount of Deaths')"
      ]
     },
     "execution_count": 81,
     "metadata": {},
     "output_type": "execute_result"
    },
    {
     "data": {
      "text/plain": [
       "Text(0, 0.5, 'Deaths per day')"
      ]
     },
     "execution_count": 81,
     "metadata": {},
     "output_type": "execute_result"
    },
    {
     "data": {
      "image/png": "[encoded data removed]",
      "text/plain": [
       "<Figure size 432x288 with 1 Axes>"
      ]
     },
     "metadata": {
      "needs_background": "light"
     },
     "output_type": "display_data"
    }
   ],
   "source": [
    "size, scale = 1000, 10\n",
    "World = World_df['total_deaths']\n",
    "\n",
    "World.plot.hist(grid=True, bins=20, rwidth=0.9,\n",
    "                   color='#607c8e')\n",
    "plt.title('Deaths through the Covid-19 Pandemic \"World\"')\n",
    "plt.xlabel('Total Amount of Deaths')\n",
    "plt.ylabel('Deaths per day')\n",
    "plt.grid(axis='y', alpha=0.75)"
   ]
  },
  {
   "cell_type": "code",
   "execution_count": 45,
   "metadata": {},
   "outputs": [
    {
     "data": {
      "text/plain": [
       "<AxesSubplot:ylabel='Frequency'>"
      ]
     },
     "execution_count": 45,
     "metadata": {},
     "output_type": "execute_result"
    },
    {
     "data": {
      "text/plain": [
       "Text(0.5, 1.0, 'Deaths through the Covid-19 Pandemic \"Afghanistan\"')"
      ]
     },
     "execution_count": 45,
     "metadata": {},
     "output_type": "execute_result"
    },
    {
     "data": {
      "text/plain": [
       "Text(0.5, 0, 'Total Amount of Deaths')"
      ]
     },
     "execution_count": 45,
     "metadata": {},
     "output_type": "execute_result"
    },
    {
     "data": {
      "text/plain": [
       "Text(0, 0.5, 'Deaths per day')"
      ]
     },
     "execution_count": 45,
     "metadata": {},
     "output_type": "execute_result"
    },
    {
     "data": {
      "image/png": "[encoded data removed]",
      "text/plain": [
       "<Figure size 432x288 with 1 Axes>"
      ]
     },
     "metadata": {
      "needs_background": "light"
     },
     "output_type": "display_data"
    }
   ],
   "source": [
    "size, scale = 1000, 10\n",
    "AFG = Afghanistan_df['total_deaths']\n",
    "\n",
    "AFG.plot.hist(grid=True, bins=20, rwidth=0.9,\n",
    "                   color='#607c8e')\n",
    "plt.title('Deaths through the Covid-19 Pandemic \"Afghanistan\"')\n",
    "plt.xlabel('Total Amount of Deaths')\n",
    "plt.ylabel('Deaths per day')\n",
    "plt.grid(axis='y', alpha=0.75)"
   ]
  },
  {
   "cell_type": "code",
   "execution_count": 47,
   "metadata": {},
   "outputs": [
    {
     "data": {
      "text/plain": [
       "<AxesSubplot:ylabel='Frequency'>"
      ]
     },
     "execution_count": 47,
     "metadata": {},
     "output_type": "execute_result"
    },
    {
     "data": {
      "text/plain": [
       "Text(0.5, 1.0, 'Deaths through the Covid-19 Pandemic \"United States\"')"
      ]
     },
     "execution_count": 47,
     "metadata": {},
     "output_type": "execute_result"
    },
    {
     "data": {
      "text/plain": [
       "Text(0.5, 0, 'Total Amount of Deaths')"
      ]
     },
     "execution_count": 47,
     "metadata": {},
     "output_type": "execute_result"
    },
    {
     "data": {
      "text/plain": [
       "Text(0, 0.5, 'Deaths per day')"
      ]
     },
     "execution_count": 47,
     "metadata": {},
     "output_type": "execute_result"
    },
    {
     "data": {
      "image/png": "[encoded data removed]",
      "text/plain": [
       "<Figure size 432x288 with 1 Axes>"
      ]
     },
     "metadata": {
      "needs_background": "light"
     },
     "output_type": "display_data"
    }
   ],
   "source": [
    "size, scale = 1000, 10\n",
    "US = United_States_df['total_deaths']\n",
    "\n",
    "US.plot.hist(grid=True, bins=20, rwidth=0.9,\n",
    "                   color='#607c8e')\n",
    "plt.title('Deaths through the Covid-19 Pandemic \"United States\"')\n",
    "plt.xlabel('Total Amount of Deaths')\n",
    "plt.ylabel('Deaths per day')\n",
    "plt.grid(axis='y', alpha=0.75)"
   ]
  },
  {
   "cell_type": "code",
   "execution_count": 51,
   "metadata": {},
   "outputs": [
    {
     "data": {
      "text/plain": [
       "<AxesSubplot:ylabel='Frequency'>"
      ]
     },
     "execution_count": 51,
     "metadata": {},
     "output_type": "execute_result"
    },
    {
     "data": {
      "text/plain": [
       "Text(0.5, 1.0, 'Deaths through the Covid-19 Pandemic \"United Kingdom\"')"
      ]
     },
     "execution_count": 51,
     "metadata": {},
     "output_type": "execute_result"
    },
    {
     "data": {
      "text/plain": [
       "Text(0.5, 0, 'Total Amount of Deaths')"
      ]
     },
     "execution_count": 51,
     "metadata": {},
     "output_type": "execute_result"
    },
    {
     "data": {
      "text/plain": [
       "Text(0, 0.5, 'Deaths per day')"
      ]
     },
     "execution_count": 51,
     "metadata": {},
     "output_type": "execute_result"
    },
    {
     "data": {
      "image/png": "[encoded data removed]",
      "text/plain": [
       "<Figure size 432x288 with 1 Axes>"
      ]
     },
     "metadata": {
      "needs_background": "light"
     },
     "output_type": "display_data"
    }
   ],
   "source": [
    "size, scale = 1000, 10\n",
    "UK = United_Kingdom_df['total_deaths']\n",
    "\n",
    "UK.plot.hist(grid=True, bins=20, rwidth=0.9,\n",
    "                   color='#607c8e')\n",
    "plt.title('Deaths through the Covid-19 Pandemic \"United Kingdom\"')\n",
    "plt.xlabel('Total Amount of Deaths')\n",
    "plt.ylabel('Deaths per day')\n",
    "plt.grid(axis='y', alpha=0.75)"
   ]
  },
  {
   "cell_type": "code",
   "execution_count": 52,
   "metadata": {},
   "outputs": [
    {
     "data": {
      "text/plain": [
       "<AxesSubplot:ylabel='Frequency'>"
      ]
     },
     "execution_count": 52,
     "metadata": {},
     "output_type": "execute_result"
    },
    {
     "data": {
      "text/plain": [
       "Text(0.5, 1.0, 'Deaths through the Covid-19 Pandemic \"United Arab Emirates\"')"
      ]
     },
     "execution_count": 52,
     "metadata": {},
     "output_type": "execute_result"
    },
    {
     "data": {
      "text/plain": [
       "Text(0.5, 0, 'Total Amount of Deaths')"
      ]
     },
     "execution_count": 52,
     "metadata": {},
     "output_type": "execute_result"
    },
    {
     "data": {
      "text/plain": [
       "Text(0, 0.5, 'Deaths per day')"
      ]
     },
     "execution_count": 52,
     "metadata": {},
     "output_type": "execute_result"
    },
    {
     "data": {
      "image/png": "[encoded data removed]",
      "text/plain": [
       "<Figure size 432x288 with 1 Axes>"
      ]
     },
     "metadata": {
      "needs_background": "light"
     },
     "output_type": "display_data"
    }
   ],
   "source": [
    "size, scale = 1000, 10\n",
    "UAE = United_Arab_Emirates_df['total_deaths']\n",
    "\n",
    "UAE.plot.hist(grid=True, bins=20, rwidth=0.9,\n",
    "                   color='#607c8e')\n",
    "plt.title('Deaths through the Covid-19 Pandemic \"United Arab Emirates\"')\n",
    "plt.xlabel('Total Amount of Deaths')\n",
    "plt.ylabel('Deaths per day')\n",
    "plt.grid(axis='y', alpha=0.75)"
   ]
  },
  {
   "cell_type": "code",
   "execution_count": 54,
   "metadata": {},
   "outputs": [
    {
     "data": {
      "text/plain": [
       "<AxesSubplot:ylabel='Frequency'>"
      ]
     },
     "execution_count": 54,
     "metadata": {},
     "output_type": "execute_result"
    },
    {
     "data": {
      "text/plain": [
       "Text(0.5, 1.0, 'Deaths through the Covid-19 Pandemic \"Russia\"')"
      ]
     },
     "execution_count": 54,
     "metadata": {},
     "output_type": "execute_result"
    },
    {
     "data": {
      "text/plain": [
       "Text(0.5, 0, 'Total Amount of Deaths')"
      ]
     },
     "execution_count": 54,
     "metadata": {},
     "output_type": "execute_result"
    },
    {
     "data": {
      "text/plain": [
       "Text(0, 0.5, 'Deaths per day')"
      ]
     },
     "execution_count": 54,
     "metadata": {},
     "output_type": "execute_result"
    },
    {
     "data": {
      "image/png": "[encoded data removed]",
      "text/plain": [
       "<Figure size 432x288 with 1 Axes>"
      ]
     },
     "metadata": {
      "needs_background": "light"
     },
     "output_type": "display_data"
    }
   ],
   "source": [
    "size, scale = 1000, 10\n",
    "RS = Russia_df['total_deaths']\n",
    "\n",
    "RS.plot.hist(grid=True, bins=20, rwidth=0.9,\n",
    "                   color='#607c8e')\n",
    "plt.title('Deaths through the Covid-19 Pandemic \"Russia\"')\n",
    "plt.xlabel('Total Amount of Deaths')\n",
    "plt.ylabel('Deaths per day')\n",
    "plt.grid(axis='y', alpha=0.75)"
   ]
  },
  {
   "cell_type": "code",
   "execution_count": 56,
   "metadata": {},
   "outputs": [
    {
     "data": {
      "text/plain": [
       "<AxesSubplot:ylabel='Frequency'>"
      ]
     },
     "execution_count": 56,
     "metadata": {},
     "output_type": "execute_result"
    },
    {
     "data": {
      "text/plain": [
       "Text(0.5, 1.0, 'Deaths through the Covid-19 Pandemic \"Brazil\"')"
      ]
     },
     "execution_count": 56,
     "metadata": {},
     "output_type": "execute_result"
    },
    {
     "data": {
      "text/plain": [
       "Text(0.5, 0, 'Total Amount of Deaths')"
      ]
     },
     "execution_count": 56,
     "metadata": {},
     "output_type": "execute_result"
    },
    {
     "data": {
      "text/plain": [
       "Text(0, 0.5, 'Deaths per day')"
      ]
     },
     "execution_count": 56,
     "metadata": {},
     "output_type": "execute_result"
    },
    {
     "data": {
      "image/png": "[encoded data removed]",
      "text/plain": [
       "<Figure size 432x288 with 1 Axes>"
      ]
     },
     "metadata": {
      "needs_background": "light"
     },
     "output_type": "display_data"
    }
   ],
   "source": [
    "size, scale = 1000, 10\n",
    "BR = Brazil_df['total_deaths']\n",
    "\n",
    "BR.plot.hist(grid=True, bins=20, rwidth=0.9,\n",
    "                   color='#607c8e')\n",
    "plt.title('Deaths through the Covid-19 Pandemic \"Brazil\"')\n",
    "plt.xlabel('Total Amount of Deaths')\n",
    "plt.ylabel('Deaths per day')\n",
    "plt.grid(axis='y', alpha=0.75)"
   ]
  },
  {
   "cell_type": "code",
   "execution_count": 57,
   "metadata": {},
   "outputs": [
    {
     "data": {
      "text/plain": [
       "<AxesSubplot:ylabel='Frequency'>"
      ]
     },
     "execution_count": 57,
     "metadata": {},
     "output_type": "execute_result"
    },
    {
     "data": {
      "text/plain": [
       "Text(0.5, 1.0, 'Deaths through the Covid-19 Pandemic \"Peru\"')"
      ]
     },
     "execution_count": 57,
     "metadata": {},
     "output_type": "execute_result"
    },
    {
     "data": {
      "text/plain": [
       "Text(0.5, 0, 'Total Amount of Deaths')"
      ]
     },
     "execution_count": 57,
     "metadata": {},
     "output_type": "execute_result"
    },
    {
     "data": {
      "text/plain": [
       "Text(0, 0.5, 'Deaths per day')"
      ]
     },
     "execution_count": 57,
     "metadata": {},
     "output_type": "execute_result"
    },
    {
     "data": {
      "image/png": "[encoded data removed]",
      "text/plain": [
       "<Figure size 432x288 with 1 Axes>"
      ]
     },
     "metadata": {
      "needs_background": "light"
     },
     "output_type": "display_data"
    }
   ],
   "source": [
    "size, scale = 1000, 10\n",
    "PR = Peru_df['total_deaths']\n",
    "\n",
    "PR.plot.hist(grid=True, bins=20, rwidth=0.9,\n",
    "                   color='#607c8e')\n",
    "plt.title('Deaths through the Covid-19 Pandemic \"Peru\"')\n",
    "plt.xlabel('Total Amount of Deaths')\n",
    "plt.ylabel('Deaths per day')\n",
    "plt.grid(axis='y', alpha=0.75)"
   ]
  },
  {
   "cell_type": "code",
   "execution_count": 59,
   "metadata": {},
   "outputs": [
    {
     "data": {
      "text/plain": [
       "<AxesSubplot:ylabel='Frequency'>"
      ]
     },
     "execution_count": 59,
     "metadata": {},
     "output_type": "execute_result"
    },
    {
     "data": {
      "text/plain": [
       "Text(0.5, 1.0, 'Deaths through the Covid-19 Pandemic \"Ireland\"')"
      ]
     },
     "execution_count": 59,
     "metadata": {},
     "output_type": "execute_result"
    },
    {
     "data": {
      "text/plain": [
       "Text(0.5, 0, 'Total Amount of Deaths')"
      ]
     },
     "execution_count": 59,
     "metadata": {},
     "output_type": "execute_result"
    },
    {
     "data": {
      "text/plain": [
       "Text(0, 0.5, 'Deaths per day')"
      ]
     },
     "execution_count": 59,
     "metadata": {},
     "output_type": "execute_result"
    },
    {
     "data": {
      "image/png": "[encoded data removed]",
      "text/plain": [
       "<Figure size 432x288 with 1 Axes>"
      ]
     },
     "metadata": {
      "needs_background": "light"
     },
     "output_type": "display_data"
    }
   ],
   "source": [
    "size, scale = 1000, 10\n",
    "IR = Ireland_df['total_deaths']\n",
    "\n",
    "IR.plot.hist(grid=True, bins=20, rwidth=0.9,\n",
    "                   color='#607c8e')\n",
    "plt.title('Deaths through the Covid-19 Pandemic \"Ireland\"')\n",
    "plt.xlabel('Total Amount of Deaths')\n",
    "plt.ylabel('Deaths per day')\n",
    "plt.grid(axis='y', alpha=0.75)"
   ]
  },
  {
   "cell_type": "code",
   "execution_count": 61,
   "metadata": {},
   "outputs": [
    {
     "data": {
      "text/plain": [
       "<AxesSubplot:ylabel='Frequency'>"
      ]
     },
     "execution_count": 61,
     "metadata": {},
     "output_type": "execute_result"
    },
    {
     "data": {
      "text/plain": [
       "Text(0.5, 1.0, 'Deaths through the Covid-19 Pandemic \"Israel\"')"
      ]
     },
     "execution_count": 61,
     "metadata": {},
     "output_type": "execute_result"
    },
    {
     "data": {
      "text/plain": [
       "Text(0.5, 0, 'Total Amount of Deaths')"
      ]
     },
     "execution_count": 61,
     "metadata": {},
     "output_type": "execute_result"
    },
    {
     "data": {
      "text/plain": [
       "Text(0, 0.5, 'Deaths per day')"
      ]
     },
     "execution_count": 61,
     "metadata": {},
     "output_type": "execute_result"
    },
    {
     "data": {
      "image/png": "[encoded data removed]",
      "text/plain": [
       "<Figure size 432x288 with 1 Axes>"
      ]
     },
     "metadata": {
      "needs_background": "light"
     },
     "output_type": "display_data"
    }
   ],
   "source": [
    "size, scale = 1000, 10\n",
    "IS = Israel_df['total_deaths']\n",
    "\n",
    "IS.plot.hist(grid=True, bins=20, rwidth=0.9,\n",
    "                   color='#607c8e')\n",
    "plt.title('Deaths through the Covid-19 Pandemic \"Israel\"')\n",
    "plt.xlabel('Total Amount of Deaths')\n",
    "plt.ylabel('Deaths per day')\n",
    "plt.grid(axis='y', alpha=0.75)"
   ]
  },
  {
   "cell_type": "code",
   "execution_count": 62,
   "metadata": {
    "scrolled": true
   },
   "outputs": [
    {
     "data": {
      "text/plain": [
       "<AxesSubplot:ylabel='Frequency'>"
      ]
     },
     "execution_count": 62,
     "metadata": {},
     "output_type": "execute_result"
    },
    {
     "data": {
      "text/plain": [
       "Text(0.5, 1.0, 'Deaths through the Covid-19 Pandemic \"China\"')"
      ]
     },
     "execution_count": 62,
     "metadata": {},
     "output_type": "execute_result"
    },
    {
     "data": {
      "text/plain": [
       "Text(0.5, 0, 'Total Amount of Deaths')"
      ]
     },
     "execution_count": 62,
     "metadata": {},
     "output_type": "execute_result"
    },
    {
     "data": {
      "text/plain": [
       "Text(0, 0.5, 'Deaths per day')"
      ]
     },
     "execution_count": 62,
     "metadata": {},
     "output_type": "execute_result"
    },
    {
     "data": {
      "image/png": "[encoded data removed]",
      "text/plain": [
       "<Figure size 432x288 with 1 Axes>"
      ]
     },
     "metadata": {
      "needs_background": "light"
     },
     "output_type": "display_data"
    }
   ],
   "source": [
    "size, scale = 1000, 10\n",
    "CH = China_df['total_deaths']\n",
    "\n",
    "CH.plot.hist(grid=True, bins=20, rwidth=0.9,\n",
    "                   color='#607c8e')\n",
    "plt.title('Deaths through the Covid-19 Pandemic \"China\"')\n",
    "plt.xlabel('Total Amount of Deaths')\n",
    "plt.ylabel('Deaths per day')\n",
    "plt.grid(axis='y', alpha=0.75)"
   ]
  },
  {
   "cell_type": "code",
   "execution_count": 71,
   "metadata": {},
   "outputs": [
    {
     "name": "stdout",
     "output_type": "stream",
     "text": [
      "new_cases            244763.50\n",
      "new_deaths             4412.00\n",
      "total_cases        26713286.50\n",
      "total_deaths         857369.75\n",
      "weekly_cases        1533646.00\n",
      "weekly_deaths         24096.00\n",
      "biweekly_cases      2962835.50\n",
      "biweekly_deaths       40461.00\n",
      "dtype: float64\n"
     ]
    }
   ],
   "source": [
    "# Identify Outliers through an IQR score\n",
    "WQ1 = World_df.quantile(0.25)\n",
    "WQ3 = World_df.quantile(0.75)\n",
    "WIQR = WQ3 - WQ1\n",
    "print(WIQR)"
   ]
  },
  {
   "cell_type": "code",
   "execution_count": 72,
   "metadata": {},
   "outputs": [
    {
     "name": "stdout",
     "output_type": "stream",
     "text": [
      "       biweekly_cases  biweekly_deaths   date  location  new_cases  \\\n",
      "58275           False            False  False     False      False   \n",
      "58276           False            False  False     False      False   \n",
      "58277           False            False  False     False      False   \n",
      "58278           False            False  False     False      False   \n",
      "58279           False            False  False     False      False   \n",
      "...               ...              ...    ...       ...        ...   \n",
      "58605           False            False  False     False      False   \n",
      "58606           False            False  False     False      False   \n",
      "58607           False            False  False     False      False   \n",
      "58608           False            False  False     False      False   \n",
      "58609           False            False  False     False      False   \n",
      "\n",
      "       new_deaths  total_cases  total_deaths  weekly_cases  weekly_deaths  \n",
      "58275       False        False         False         False          False  \n",
      "58276       False        False         False         False          False  \n",
      "58277       False        False         False         False          False  \n",
      "58278       False        False         False         False          False  \n",
      "58279       False        False         False         False          False  \n",
      "...           ...          ...           ...           ...            ...  \n",
      "58605       False        False         False         False          False  \n",
      "58606       False        False         False         False          False  \n",
      "58607       False        False         False         False          False  \n",
      "58608       False        False         False         False          False  \n",
      "58609       False        False         False         False          False  \n",
      "\n",
      "[335 rows x 10 columns]\n"
     ]
    },
    {
     "ename": "TypeError",
     "evalue": "Cannot perform 'ror_' with a dtyped [bool] array and scalar of type [NoneType]",
     "output_type": "error",
     "traceback": [
      "\u001b[0;31m---------------------------------------------------------------------------\u001b[0m",
      "\u001b[0;31mTypeError\u001b[0m                                 Traceback (most recent call last)",
      "\u001b[0;32m/opt/anaconda3/lib/python3.8/site-packages/pandas/core/ops/array_ops.py\u001b[0m in \u001b[0;36mna_logical_op\u001b[0;34m(x, y, op)\u001b[0m\n\u001b[1;32m    265\u001b[0m         \u001b[0;31m#  (xint or xbool) and (yint or bool)\u001b[0m\u001b[0;34m\u001b[0m\u001b[0;34m\u001b[0m\u001b[0;34m\u001b[0m\u001b[0m\n\u001b[0;32m--> 266\u001b[0;31m         \u001b[0mresult\u001b[0m \u001b[0;34m=\u001b[0m \u001b[0mop\u001b[0m\u001b[0;34m(\u001b[0m\u001b[0mx\u001b[0m\u001b[0;34m,\u001b[0m \u001b[0my\u001b[0m\u001b[0;34m)\u001b[0m\u001b[0;34m\u001b[0m\u001b[0;34m\u001b[0m\u001b[0m\n\u001b[0m\u001b[1;32m    267\u001b[0m     \u001b[0;32mexcept\u001b[0m \u001b[0mTypeError\u001b[0m\u001b[0;34m:\u001b[0m\u001b[0;34m\u001b[0m\u001b[0;34m\u001b[0m\u001b[0m\n",
      "\u001b[0;32m/opt/anaconda3/lib/python3.8/site-packages/pandas/core/ops/roperator.py\u001b[0m in \u001b[0;36mror_\u001b[0;34m(left, right)\u001b[0m\n\u001b[1;32m     55\u001b[0m \u001b[0;32mdef\u001b[0m \u001b[0mror_\u001b[0m\u001b[0;34m(\u001b[0m\u001b[0mleft\u001b[0m\u001b[0;34m,\u001b[0m \u001b[0mright\u001b[0m\u001b[0;34m)\u001b[0m\u001b[0;34m:\u001b[0m\u001b[0;34m\u001b[0m\u001b[0;34m\u001b[0m\u001b[0m\n\u001b[0;32m---> 56\u001b[0;31m     \u001b[0;32mreturn\u001b[0m \u001b[0moperator\u001b[0m\u001b[0;34m.\u001b[0m\u001b[0mor_\u001b[0m\u001b[0;34m(\u001b[0m\u001b[0mright\u001b[0m\u001b[0;34m,\u001b[0m \u001b[0mleft\u001b[0m\u001b[0;34m)\u001b[0m\u001b[0;34m\u001b[0m\u001b[0;34m\u001b[0m\u001b[0m\n\u001b[0m\u001b[1;32m     57\u001b[0m \u001b[0;34m\u001b[0m\u001b[0m\n",
      "\u001b[0;31mTypeError\u001b[0m: unsupported operand type(s) for |: 'NoneType' and 'bool'",
      "\nDuring handling of the above exception, another exception occurred:\n",
      "\u001b[0;31mValueError\u001b[0m                                Traceback (most recent call last)",
      "\u001b[0;32m/opt/anaconda3/lib/python3.8/site-packages/pandas/core/ops/array_ops.py\u001b[0m in \u001b[0;36mna_logical_op\u001b[0;34m(x, y, op)\u001b[0m\n\u001b[1;32m    279\u001b[0m             \u001b[0;32mtry\u001b[0m\u001b[0;34m:\u001b[0m\u001b[0;34m\u001b[0m\u001b[0;34m\u001b[0m\u001b[0m\n\u001b[0;32m--> 280\u001b[0;31m                 \u001b[0mresult\u001b[0m \u001b[0;34m=\u001b[0m \u001b[0mlibops\u001b[0m\u001b[0;34m.\u001b[0m\u001b[0mscalar_binop\u001b[0m\u001b[0;34m(\u001b[0m\u001b[0mx\u001b[0m\u001b[0;34m,\u001b[0m \u001b[0my\u001b[0m\u001b[0;34m,\u001b[0m \u001b[0mop\u001b[0m\u001b[0;34m)\u001b[0m\u001b[0;34m\u001b[0m\u001b[0;34m\u001b[0m\u001b[0m\n\u001b[0m\u001b[1;32m    281\u001b[0m             except (\n",
      "\u001b[0;32mpandas/_libs/ops.pyx\u001b[0m in \u001b[0;36mpandas._libs.ops.scalar_binop\u001b[0;34m()\u001b[0m\n",
      "\u001b[0;31mValueError\u001b[0m: Buffer has wrong number of dimensions (expected 1, got 2)",
      "\nThe above exception was the direct cause of the following exception:\n",
      "\u001b[0;31mTypeError\u001b[0m                                 Traceback (most recent call last)",
      "\u001b[0;32m<ipython-input-72-d9ee9e6e42d9>\u001b[0m in \u001b[0;36m<module>\u001b[0;34m\u001b[0m\n\u001b[0;32m----> 1\u001b[0;31m \u001b[0mprint\u001b[0m\u001b[0;34m(\u001b[0m\u001b[0mWorld_df\u001b[0m \u001b[0;34m<\u001b[0m \u001b[0;34m(\u001b[0m\u001b[0mWQ1\u001b[0m \u001b[0;34m-\u001b[0m \u001b[0;36m1.5\u001b[0m \u001b[0;34m*\u001b[0m \u001b[0mWIQR\u001b[0m\u001b[0;34m)\u001b[0m\u001b[0;34m)\u001b[0m \u001b[0;34m|\u001b[0m\u001b[0;34m(\u001b[0m\u001b[0mWorld_df\u001b[0m \u001b[0;34m>\u001b[0m \u001b[0;34m(\u001b[0m\u001b[0mWQ3\u001b[0m \u001b[0;34m+\u001b[0m \u001b[0;36m1.5\u001b[0m \u001b[0;34m*\u001b[0m \u001b[0mWIQR\u001b[0m\u001b[0;34m)\u001b[0m\u001b[0;34m)\u001b[0m\u001b[0;34m\u001b[0m\u001b[0;34m\u001b[0m\u001b[0m\n\u001b[0m",
      "\u001b[0;32m/opt/anaconda3/lib/python3.8/site-packages/pandas/core/ops/__init__.py\u001b[0m in \u001b[0;36mf\u001b[0;34m(self, other, axis, level, fill_value)\u001b[0m\n\u001b[1;32m    658\u001b[0m                 \u001b[0mself\u001b[0m \u001b[0;34m=\u001b[0m \u001b[0mself\u001b[0m\u001b[0;34m.\u001b[0m\u001b[0mfillna\u001b[0m\u001b[0;34m(\u001b[0m\u001b[0mfill_value\u001b[0m\u001b[0;34m)\u001b[0m\u001b[0;34m\u001b[0m\u001b[0;34m\u001b[0m\u001b[0m\n\u001b[1;32m    659\u001b[0m \u001b[0;34m\u001b[0m\u001b[0m\n\u001b[0;32m--> 660\u001b[0;31m             \u001b[0mnew_data\u001b[0m \u001b[0;34m=\u001b[0m \u001b[0mdispatch_to_series\u001b[0m\u001b[0;34m(\u001b[0m\u001b[0mself\u001b[0m\u001b[0;34m,\u001b[0m \u001b[0mother\u001b[0m\u001b[0;34m,\u001b[0m \u001b[0mop\u001b[0m\u001b[0;34m)\u001b[0m\u001b[0;34m\u001b[0m\u001b[0;34m\u001b[0m\u001b[0m\n\u001b[0m\u001b[1;32m    661\u001b[0m \u001b[0;34m\u001b[0m\u001b[0m\n\u001b[1;32m    662\u001b[0m         \u001b[0;32mreturn\u001b[0m \u001b[0mself\u001b[0m\u001b[0;34m.\u001b[0m\u001b[0m_construct_result\u001b[0m\u001b[0;34m(\u001b[0m\u001b[0mnew_data\u001b[0m\u001b[0;34m)\u001b[0m\u001b[0;34m\u001b[0m\u001b[0;34m\u001b[0m\u001b[0m\n",
      "\u001b[0;32m/opt/anaconda3/lib/python3.8/site-packages/pandas/core/ops/__init__.py\u001b[0m in \u001b[0;36mdispatch_to_series\u001b[0;34m(left, right, func, axis)\u001b[0m\n\u001b[1;32m    263\u001b[0m     \u001b[0;32mif\u001b[0m \u001b[0;32mnot\u001b[0m \u001b[0mis_list_like\u001b[0m\u001b[0;34m(\u001b[0m\u001b[0mright\u001b[0m\u001b[0;34m)\u001b[0m\u001b[0;34m:\u001b[0m\u001b[0;34m\u001b[0m\u001b[0;34m\u001b[0m\u001b[0m\n\u001b[1;32m    264\u001b[0m         \u001b[0;31m# i.e. scalar, faster than checking np.ndim(right) == 0\u001b[0m\u001b[0;34m\u001b[0m\u001b[0;34m\u001b[0m\u001b[0;34m\u001b[0m\u001b[0m\n\u001b[0;32m--> 265\u001b[0;31m         \u001b[0mbm\u001b[0m \u001b[0;34m=\u001b[0m \u001b[0mleft\u001b[0m\u001b[0;34m.\u001b[0m\u001b[0m_mgr\u001b[0m\u001b[0;34m.\u001b[0m\u001b[0mapply\u001b[0m\u001b[0;34m(\u001b[0m\u001b[0marray_op\u001b[0m\u001b[0;34m,\u001b[0m \u001b[0mright\u001b[0m\u001b[0;34m=\u001b[0m\u001b[0mright\u001b[0m\u001b[0;34m)\u001b[0m\u001b[0;34m\u001b[0m\u001b[0;34m\u001b[0m\u001b[0m\n\u001b[0m\u001b[1;32m    266\u001b[0m         \u001b[0;32mreturn\u001b[0m \u001b[0mtype\u001b[0m\u001b[0;34m(\u001b[0m\u001b[0mleft\u001b[0m\u001b[0;34m)\u001b[0m\u001b[0;34m(\u001b[0m\u001b[0mbm\u001b[0m\u001b[0;34m)\u001b[0m\u001b[0;34m\u001b[0m\u001b[0;34m\u001b[0m\u001b[0m\n\u001b[1;32m    267\u001b[0m \u001b[0;34m\u001b[0m\u001b[0m\n",
      "\u001b[0;32m/opt/anaconda3/lib/python3.8/site-packages/pandas/core/internals/managers.py\u001b[0m in \u001b[0;36mapply\u001b[0;34m(self, f, align_keys, **kwargs)\u001b[0m\n\u001b[1;32m    402\u001b[0m \u001b[0;34m\u001b[0m\u001b[0m\n\u001b[1;32m    403\u001b[0m             \u001b[0;32mif\u001b[0m \u001b[0mcallable\u001b[0m\u001b[0;34m(\u001b[0m\u001b[0mf\u001b[0m\u001b[0;34m)\u001b[0m\u001b[0;34m:\u001b[0m\u001b[0;34m\u001b[0m\u001b[0;34m\u001b[0m\u001b[0m\n\u001b[0;32m--> 404\u001b[0;31m                 \u001b[0mapplied\u001b[0m \u001b[0;34m=\u001b[0m \u001b[0mb\u001b[0m\u001b[0;34m.\u001b[0m\u001b[0mapply\u001b[0m\u001b[0;34m(\u001b[0m\u001b[0mf\u001b[0m\u001b[0;34m,\u001b[0m \u001b[0;34m**\u001b[0m\u001b[0mkwargs\u001b[0m\u001b[0;34m)\u001b[0m\u001b[0;34m\u001b[0m\u001b[0;34m\u001b[0m\u001b[0m\n\u001b[0m\u001b[1;32m    405\u001b[0m             \u001b[0;32melse\u001b[0m\u001b[0;34m:\u001b[0m\u001b[0;34m\u001b[0m\u001b[0;34m\u001b[0m\u001b[0m\n\u001b[1;32m    406\u001b[0m                 \u001b[0mapplied\u001b[0m \u001b[0;34m=\u001b[0m \u001b[0mgetattr\u001b[0m\u001b[0;34m(\u001b[0m\u001b[0mb\u001b[0m\u001b[0;34m,\u001b[0m \u001b[0mf\u001b[0m\u001b[0;34m)\u001b[0m\u001b[0;34m(\u001b[0m\u001b[0;34m**\u001b[0m\u001b[0mkwargs\u001b[0m\u001b[0;34m)\u001b[0m\u001b[0;34m\u001b[0m\u001b[0;34m\u001b[0m\u001b[0m\n",
      "\u001b[0;32m/opt/anaconda3/lib/python3.8/site-packages/pandas/core/internals/blocks.py\u001b[0m in \u001b[0;36mapply\u001b[0;34m(self, func, **kwargs)\u001b[0m\n\u001b[1;32m    344\u001b[0m         \"\"\"\n\u001b[1;32m    345\u001b[0m         \u001b[0;32mwith\u001b[0m \u001b[0mnp\u001b[0m\u001b[0;34m.\u001b[0m\u001b[0merrstate\u001b[0m\u001b[0;34m(\u001b[0m\u001b[0mall\u001b[0m\u001b[0;34m=\u001b[0m\u001b[0;34m\"ignore\"\u001b[0m\u001b[0;34m)\u001b[0m\u001b[0;34m:\u001b[0m\u001b[0;34m\u001b[0m\u001b[0;34m\u001b[0m\u001b[0m\n\u001b[0;32m--> 346\u001b[0;31m             \u001b[0mresult\u001b[0m \u001b[0;34m=\u001b[0m \u001b[0mfunc\u001b[0m\u001b[0;34m(\u001b[0m\u001b[0mself\u001b[0m\u001b[0;34m.\u001b[0m\u001b[0mvalues\u001b[0m\u001b[0;34m,\u001b[0m \u001b[0;34m**\u001b[0m\u001b[0mkwargs\u001b[0m\u001b[0;34m)\u001b[0m\u001b[0;34m\u001b[0m\u001b[0;34m\u001b[0m\u001b[0m\n\u001b[0m\u001b[1;32m    347\u001b[0m \u001b[0;34m\u001b[0m\u001b[0m\n\u001b[1;32m    348\u001b[0m         \u001b[0;32mreturn\u001b[0m \u001b[0mself\u001b[0m\u001b[0;34m.\u001b[0m\u001b[0m_split_op_result\u001b[0m\u001b[0;34m(\u001b[0m\u001b[0mresult\u001b[0m\u001b[0;34m)\u001b[0m\u001b[0;34m\u001b[0m\u001b[0;34m\u001b[0m\u001b[0m\n",
      "\u001b[0;32m/opt/anaconda3/lib/python3.8/site-packages/pandas/core/ops/array_ops.py\u001b[0m in \u001b[0;36mlogical_op\u001b[0;34m(left, right, op)\u001b[0m\n\u001b[1;32m    354\u001b[0m         \u001b[0mfiller\u001b[0m \u001b[0;34m=\u001b[0m \u001b[0mfill_int\u001b[0m \u001b[0;32mif\u001b[0m \u001b[0mis_self_int_dtype\u001b[0m \u001b[0;32mand\u001b[0m \u001b[0mis_other_int_dtype\u001b[0m \u001b[0;32melse\u001b[0m \u001b[0mfill_bool\u001b[0m\u001b[0;34m\u001b[0m\u001b[0;34m\u001b[0m\u001b[0m\n\u001b[1;32m    355\u001b[0m \u001b[0;34m\u001b[0m\u001b[0m\n\u001b[0;32m--> 356\u001b[0;31m         \u001b[0mres_values\u001b[0m \u001b[0;34m=\u001b[0m \u001b[0mna_logical_op\u001b[0m\u001b[0;34m(\u001b[0m\u001b[0mlvalues\u001b[0m\u001b[0;34m,\u001b[0m \u001b[0mrvalues\u001b[0m\u001b[0;34m,\u001b[0m \u001b[0mop\u001b[0m\u001b[0;34m)\u001b[0m\u001b[0;34m\u001b[0m\u001b[0;34m\u001b[0m\u001b[0m\n\u001b[0m\u001b[1;32m    357\u001b[0m         \u001b[0mres_values\u001b[0m \u001b[0;34m=\u001b[0m \u001b[0mfiller\u001b[0m\u001b[0;34m(\u001b[0m\u001b[0mres_values\u001b[0m\u001b[0;34m)\u001b[0m  \u001b[0;31m# type: ignore\u001b[0m\u001b[0;34m\u001b[0m\u001b[0;34m\u001b[0m\u001b[0m\n\u001b[1;32m    358\u001b[0m \u001b[0;34m\u001b[0m\u001b[0m\n",
      "\u001b[0;32m/opt/anaconda3/lib/python3.8/site-packages/pandas/core/ops/array_ops.py\u001b[0m in \u001b[0;36mna_logical_op\u001b[0;34m(x, y, op)\u001b[0m\n\u001b[1;32m    287\u001b[0m             ) as err:\n\u001b[1;32m    288\u001b[0m                 \u001b[0mtyp\u001b[0m \u001b[0;34m=\u001b[0m \u001b[0mtype\u001b[0m\u001b[0;34m(\u001b[0m\u001b[0my\u001b[0m\u001b[0;34m)\u001b[0m\u001b[0;34m.\u001b[0m\u001b[0m__name__\u001b[0m\u001b[0;34m\u001b[0m\u001b[0;34m\u001b[0m\u001b[0m\n\u001b[0;32m--> 289\u001b[0;31m                 raise TypeError(\n\u001b[0m\u001b[1;32m    290\u001b[0m                     \u001b[0;34mf\"Cannot perform '{op.__name__}' with a dtyped [{x.dtype}] array \"\u001b[0m\u001b[0;34m\u001b[0m\u001b[0;34m\u001b[0m\u001b[0m\n\u001b[1;32m    291\u001b[0m                     \u001b[0;34mf\"and scalar of type [{typ}]\"\u001b[0m\u001b[0;34m\u001b[0m\u001b[0;34m\u001b[0m\u001b[0m\n",
      "\u001b[0;31mTypeError\u001b[0m: Cannot perform 'ror_' with a dtyped [bool] array and scalar of type [NoneType]"
     ]
    }
   ],
   "source": [
    "print(World_df < (WQ1 - 1.5 * WIQR)) |(World_df > (WQ3 + 1.5 * WIQR))"
   ]
  },
  {
   "cell_type": "code",
   "execution_count": 93,
   "metadata": {},
   "outputs": [
    {
     "data": {
      "text/plain": [
       "<AxesSubplot:>"
      ]
     },
     "execution_count": 93,
     "metadata": {},
     "output_type": "execute_result"
    },
    {
     "data": {
      "image/png": "[encoded data removed]",
      "text/plain": [
       "<Figure size 432x288 with 1 Axes>"
      ]
     },
     "metadata": {
      "needs_background": "light"
     },
     "output_type": "display_data"
    }
   ],
   "source": [
    "# Identify Outliers through a boxplot analysis\n",
    "World_df.boxplot(column='total_deaths')"
   ]
  },
  {
   "cell_type": "code",
   "execution_count": 94,
   "metadata": {},
   "outputs": [
    {
     "data": {
      "text/plain": [
       "<AxesSubplot:>"
      ]
     },
     "execution_count": 94,
     "metadata": {},
     "output_type": "execute_result"
    },
    {
     "data": {
      "image/png": "[encoded data removed]",
      "text/plain": [
       "<Figure size 432x288 with 1 Axes>"
      ]
     },
     "metadata": {
      "needs_background": "light"
     },
     "output_type": "display_data"
    }
   ],
   "source": [
    "Afghanistan_df.boxplot(column='total_deaths')"
   ]
  },
  {
   "cell_type": "code",
   "execution_count": 95,
   "metadata": {},
   "outputs": [
    {
     "data": {
      "text/plain": [
       "<AxesSubplot:>"
      ]
     },
     "execution_count": 95,
     "metadata": {},
     "output_type": "execute_result"
    },
    {
     "data": {
      "image/png": "[encoded data removed]",
      "text/plain": [
       "<Figure size 432x288 with 1 Axes>"
      ]
     },
     "metadata": {
      "needs_background": "light"
     },
     "output_type": "display_data"
    }
   ],
   "source": [
    "United_States_df.boxplot(column='total_deaths')"
   ]
  },
  {
   "cell_type": "code",
   "execution_count": 96,
   "metadata": {
    "scrolled": true
   },
   "outputs": [
    {
     "data": {
      "text/plain": [
       "<AxesSubplot:>"
      ]
     },
     "execution_count": 96,
     "metadata": {},
     "output_type": "execute_result"
    },
    {
     "data": {
      "image/png": "[encoded data removed]",
      "text/plain": [
       "<Figure size 432x288 with 1 Axes>"
      ]
     },
     "metadata": {
      "needs_background": "light"
     },
     "output_type": "display_data"
    }
   ],
   "source": [
    "United_Kingdom_df.boxplot(column='total_deaths')"
   ]
  },
  {
   "cell_type": "code",
   "execution_count": 97,
   "metadata": {},
   "outputs": [
    {
     "data": {
      "text/plain": [
       "<AxesSubplot:>"
      ]
     },
     "execution_count": 97,
     "metadata": {},
     "output_type": "execute_result"
    },
    {
     "data": {
      "image/png": "[encoded data removed]",
      "text/plain": [
       "<Figure size 432x288 with 1 Axes>"
      ]
     },
     "metadata": {
      "needs_background": "light"
     },
     "output_type": "display_data"
    }
   ],
   "source": [
    "United_Arab_Emirates_df.boxplot(column='total_deaths')"
   ]
  },
  {
   "cell_type": "code",
   "execution_count": 98,
   "metadata": {},
   "outputs": [
    {
     "data": {
      "text/plain": [
       "<AxesSubplot:>"
      ]
     },
     "execution_count": 98,
     "metadata": {},
     "output_type": "execute_result"
    },
    {
     "data": {
      "image/png": "[encoded data removed]",
      "text/plain": [
       "<Figure size 432x288 with 1 Axes>"
      ]
     },
     "metadata": {
      "needs_background": "light"
     },
     "output_type": "display_data"
    }
   ],
   "source": [
    "Russia_df.boxplot(column='total_deaths')"
   ]
  },
  {
   "cell_type": "code",
   "execution_count": 99,
   "metadata": {},
   "outputs": [
    {
     "data": {
      "text/plain": [
       "<AxesSubplot:>"
      ]
     },
     "execution_count": 99,
     "metadata": {},
     "output_type": "execute_result"
    },
    {
     "data": {
      "image/png": "[encoded data removed]",
      "text/plain": [
       "<Figure size 432x288 with 1 Axes>"
      ]
     },
     "metadata": {
      "needs_background": "light"
     },
     "output_type": "display_data"
    }
   ],
   "source": [
    "Brazil_df.boxplot(column='total_deaths')"
   ]
  },
  {
   "cell_type": "code",
   "execution_count": 100,
   "metadata": {},
   "outputs": [
    {
     "data": {
      "text/plain": [
       "<AxesSubplot:>"
      ]
     },
     "execution_count": 100,
     "metadata": {},
     "output_type": "execute_result"
    },
    {
     "data": {
      "image/png": "[encoded data removed]",
      "text/plain": [
       "<Figure size 432x288 with 1 Axes>"
      ]
     },
     "metadata": {
      "needs_background": "light"
     },
     "output_type": "display_data"
    }
   ],
   "source": [
    "Peru_df.boxplot(column='total_deaths')"
   ]
  },
  {
   "cell_type": "code",
   "execution_count": 101,
   "metadata": {},
   "outputs": [
    {
     "data": {
      "text/plain": [
       "<AxesSubplot:>"
      ]
     },
     "execution_count": 101,
     "metadata": {},
     "output_type": "execute_result"
    },
    {
     "data": {
      "image/png": "[encoded data removed]",
      "text/plain": [
       "<Figure size 432x288 with 1 Axes>"
      ]
     },
     "metadata": {
      "needs_background": "light"
     },
     "output_type": "display_data"
    }
   ],
   "source": [
    "Ireland_df.boxplot(column='total_deaths')"
   ]
  },
  {
   "cell_type": "code",
   "execution_count": 103,
   "metadata": {},
   "outputs": [
    {
     "data": {
      "text/plain": [
       "<AxesSubplot:>"
      ]
     },
     "execution_count": 103,
     "metadata": {},
     "output_type": "execute_result"
    },
    {
     "data": {
      "image/png": "[encoded data removed]",
      "text/plain": [
       "<Figure size 432x288 with 1 Axes>"
      ]
     },
     "metadata": {
      "needs_background": "light"
     },
     "output_type": "display_data"
    }
   ],
   "source": [
    "Israel_df.boxplot(column='total_deaths')"
   ]
  },
  {
   "cell_type": "code",
   "execution_count": 102,
   "metadata": {},
   "outputs": [
    {
     "data": {
      "text/plain": [
       "<AxesSubplot:>"
      ]
     },
     "execution_count": 102,
     "metadata": {},
     "output_type": "execute_result"
    },
    {
     "data": {
      "image/png": "[encoded data removed]",
      "text/plain": [
       "<Figure size 432x288 with 1 Axes>"
      ]
     },
     "metadata": {
      "needs_background": "light"
     },
     "output_type": "display_data"
    }
   ],
   "source": [
    "China_df.boxplot(column='total_deaths')"
   ]
  },
  {
   "cell_type": "code",
   "execution_count": null,
   "metadata": {},
   "outputs": [],
   "source": [
    "# China, Ireland, and the United Kingdom have outliers. China's data is extremely poor, and does not provide much data which would explain the outliers near the 0 terminus. \n",
    "# Although there is more data for the United Kingdom, and Ireland. \n",
    "# They also trend down to 0, indicating that the amount of deaths that occured happened toward the tail end of 2020. Which is not surprising as the pandemic was nearing its peak. \n",
    "# The outliers will be kept as they represent the uneven distribution of deaths. "
   ]
  },
  {
   "cell_type": "code",
   "execution_count": null,
   "metadata": {},
   "outputs": [],
   "source": [
    "# Include the other descriptive characteristics about the variables: Mean, Mode, Spread, and Tails (Chapter 2)."
   ]
  },
  {
   "cell_type": "code",
   "execution_count": 105,
   "metadata": {},
   "outputs": [
    {
     "data": {
      "text/html": [
       "<div>\n",
       "<style scoped>\n",
       "    .dataframe tbody tr th:only-of-type {\n",
       "        vertical-align: middle;\n",
       "    }\n",
       "\n",
       "    .dataframe tbody tr th {\n",
       "        vertical-align: top;\n",
       "    }\n",
       "\n",
       "    .dataframe thead th {\n",
       "        text-align: right;\n",
       "    }\n",
       "</style>\n",
       "<table border=\"1\" class=\"dataframe\">\n",
       "  <thead>\n",
       "    <tr style=\"text-align: right;\">\n",
       "      <th></th>\n",
       "      <th>total_deaths</th>\n",
       "    </tr>\n",
       "  </thead>\n",
       "  <tbody>\n",
       "    <tr>\n",
       "      <th>count</th>\n",
       "      <td>3.240000e+02</td>\n",
       "    </tr>\n",
       "    <tr>\n",
       "      <th>mean</th>\n",
       "      <td>5.215177e+05</td>\n",
       "    </tr>\n",
       "    <tr>\n",
       "      <th>std</th>\n",
       "      <td>4.457501e+05</td>\n",
       "    </tr>\n",
       "    <tr>\n",
       "      <th>min</th>\n",
       "      <td>1.000000e+00</td>\n",
       "    </tr>\n",
       "    <tr>\n",
       "      <th>25%</th>\n",
       "      <td>4.227750e+04</td>\n",
       "    </tr>\n",
       "    <tr>\n",
       "      <th>50%</th>\n",
       "      <td>4.596475e+05</td>\n",
       "    </tr>\n",
       "    <tr>\n",
       "      <th>75%</th>\n",
       "      <td>8.996472e+05</td>\n",
       "    </tr>\n",
       "    <tr>\n",
       "      <th>max</th>\n",
       "      <td>1.453531e+06</td>\n",
       "    </tr>\n",
       "  </tbody>\n",
       "</table>\n",
       "</div>"
      ],
      "text/plain": [
       "       total_deaths\n",
       "count  3.240000e+02\n",
       "mean   5.215177e+05\n",
       "std    4.457501e+05\n",
       "min    1.000000e+00\n",
       "25%    4.227750e+04\n",
       "50%    4.596475e+05\n",
       "75%    8.996472e+05\n",
       "max    1.453531e+06"
      ]
     },
     "execution_count": 105,
     "metadata": {},
     "output_type": "execute_result"
    },
    {
     "data": {
      "text/html": [
       "<div>\n",
       "<style scoped>\n",
       "    .dataframe tbody tr th:only-of-type {\n",
       "        vertical-align: middle;\n",
       "    }\n",
       "\n",
       "    .dataframe tbody tr th {\n",
       "        vertical-align: top;\n",
       "    }\n",
       "\n",
       "    .dataframe thead th {\n",
       "        text-align: right;\n",
       "    }\n",
       "</style>\n",
       "<table border=\"1\" class=\"dataframe\">\n",
       "  <thead>\n",
       "    <tr style=\"text-align: right;\">\n",
       "      <th></th>\n",
       "      <th>total_deaths</th>\n",
       "    </tr>\n",
       "  </thead>\n",
       "  <tbody>\n",
       "    <tr>\n",
       "      <th>count</th>\n",
       "      <td>251.000000</td>\n",
       "    </tr>\n",
       "    <tr>\n",
       "      <th>mean</th>\n",
       "      <td>921.314741</td>\n",
       "    </tr>\n",
       "    <tr>\n",
       "      <th>std</th>\n",
       "      <td>617.389971</td>\n",
       "    </tr>\n",
       "    <tr>\n",
       "      <th>min</th>\n",
       "      <td>1.000000</td>\n",
       "    </tr>\n",
       "    <tr>\n",
       "      <th>25%</th>\n",
       "      <td>218.500000</td>\n",
       "    </tr>\n",
       "    <tr>\n",
       "      <th>50%</th>\n",
       "      <td>1269.000000</td>\n",
       "    </tr>\n",
       "    <tr>\n",
       "      <th>75%</th>\n",
       "      <td>1453.000000</td>\n",
       "    </tr>\n",
       "    <tr>\n",
       "      <th>max</th>\n",
       "      <td>1763.000000</td>\n",
       "    </tr>\n",
       "  </tbody>\n",
       "</table>\n",
       "</div>"
      ],
      "text/plain": [
       "       total_deaths\n",
       "count    251.000000\n",
       "mean     921.314741\n",
       "std      617.389971\n",
       "min        1.000000\n",
       "25%      218.500000\n",
       "50%     1269.000000\n",
       "75%     1453.000000\n",
       "max     1763.000000"
      ]
     },
     "execution_count": 105,
     "metadata": {},
     "output_type": "execute_result"
    }
   ],
   "source": [
    "World_df[[\"total_deaths\"]].describe()\n",
    "\n",
    "Afghanistan_df[[\"total_deaths\"]].describe()"
   ]
  },
  {
   "cell_type": "code",
   "execution_count": 111,
   "metadata": {},
   "outputs": [],
   "source": [
    "Combined_Countries1 = [Afghanistan_df, United_States_df, United_Kingdom_df, United_Arab_Emirates_df, Russia_df,\n",
    "                     Brazil_df, Peru_df, Ireland_df, Israel_df, China_df]\n",
    "\n",
    "Combined_Countries = pd.concat(Combined_Countries1)"
   ]
  },
  {
   "cell_type": "code",
   "execution_count": 112,
   "metadata": {},
   "outputs": [
    {
     "data": {
      "text/html": [
       "<div>\n",
       "<style scoped>\n",
       "    .dataframe tbody tr th:only-of-type {\n",
       "        vertical-align: middle;\n",
       "    }\n",
       "\n",
       "    .dataframe tbody tr th {\n",
       "        vertical-align: top;\n",
       "    }\n",
       "\n",
       "    .dataframe thead tr th {\n",
       "        text-align: left;\n",
       "    }\n",
       "\n",
       "    .dataframe thead tr:last-of-type th {\n",
       "        text-align: right;\n",
       "    }\n",
       "</style>\n",
       "<table border=\"1\" class=\"dataframe\">\n",
       "  <thead>\n",
       "    <tr>\n",
       "      <th></th>\n",
       "      <th colspan=\"8\" halign=\"left\">total_deaths</th>\n",
       "    </tr>\n",
       "    <tr>\n",
       "      <th></th>\n",
       "      <th>count</th>\n",
       "      <th>mean</th>\n",
       "      <th>std</th>\n",
       "      <th>min</th>\n",
       "      <th>25%</th>\n",
       "      <th>50%</th>\n",
       "      <th>75%</th>\n",
       "      <th>max</th>\n",
       "    </tr>\n",
       "    <tr>\n",
       "      <th>location</th>\n",
       "      <th></th>\n",
       "      <th></th>\n",
       "      <th></th>\n",
       "      <th></th>\n",
       "      <th></th>\n",
       "      <th></th>\n",
       "      <th></th>\n",
       "      <th></th>\n",
       "    </tr>\n",
       "  </thead>\n",
       "  <tbody>\n",
       "    <tr>\n",
       "      <th>Afghanistan</th>\n",
       "      <td>251.0</td>\n",
       "      <td>921.314741</td>\n",
       "      <td>617.389971</td>\n",
       "      <td>1.0</td>\n",
       "      <td>218.50</td>\n",
       "      <td>1269.0</td>\n",
       "      <td>1453.00</td>\n",
       "      <td>1763.0</td>\n",
       "    </tr>\n",
       "    <tr>\n",
       "      <th>Brazil</th>\n",
       "      <td>257.0</td>\n",
       "      <td>81807.669261</td>\n",
       "      <td>60271.115432</td>\n",
       "      <td>1.0</td>\n",
       "      <td>18859.00</td>\n",
       "      <td>84082.0</td>\n",
       "      <td>140537.00</td>\n",
       "      <td>172561.0</td>\n",
       "    </tr>\n",
       "    <tr>\n",
       "      <th>China</th>\n",
       "      <td>324.0</td>\n",
       "      <td>3892.709877</td>\n",
       "      <td>1427.856300</td>\n",
       "      <td>1.0</td>\n",
       "      <td>3309.75</td>\n",
       "      <td>4638.5</td>\n",
       "      <td>4733.00</td>\n",
       "      <td>4739.0</td>\n",
       "    </tr>\n",
       "    <tr>\n",
       "      <th>Ireland</th>\n",
       "      <td>263.0</td>\n",
       "      <td>1483.577947</td>\n",
       "      <td>605.804752</td>\n",
       "      <td>1.0</td>\n",
       "      <td>1525.50</td>\n",
       "      <td>1753.0</td>\n",
       "      <td>1795.50</td>\n",
       "      <td>2050.0</td>\n",
       "    </tr>\n",
       "    <tr>\n",
       "      <th>Israel</th>\n",
       "      <td>254.0</td>\n",
       "      <td>919.791339</td>\n",
       "      <td>900.768780</td>\n",
       "      <td>1.0</td>\n",
       "      <td>279.00</td>\n",
       "      <td>452.5</td>\n",
       "      <td>1432.00</td>\n",
       "      <td>2854.0</td>\n",
       "    </tr>\n",
       "    <tr>\n",
       "      <th>Peru</th>\n",
       "      <td>255.0</td>\n",
       "      <td>17450.023529</td>\n",
       "      <td>13751.896471</td>\n",
       "      <td>2.0</td>\n",
       "      <td>3196.00</td>\n",
       "      <td>17843.0</td>\n",
       "      <td>32089.50</td>\n",
       "      <td>35879.0</td>\n",
       "    </tr>\n",
       "    <tr>\n",
       "      <th>Russia</th>\n",
       "      <td>248.0</td>\n",
       "      <td>13736.455645</td>\n",
       "      <td>10531.586361</td>\n",
       "      <td>2.0</td>\n",
       "      <td>3927.75</td>\n",
       "      <td>13429.0</td>\n",
       "      <td>20339.25</td>\n",
       "      <td>39527.0</td>\n",
       "    </tr>\n",
       "    <tr>\n",
       "      <th>United Arab Emirates</th>\n",
       "      <td>253.0</td>\n",
       "      <td>312.861660</td>\n",
       "      <td>155.705386</td>\n",
       "      <td>2.0</td>\n",
       "      <td>244.00</td>\n",
       "      <td>343.0</td>\n",
       "      <td>411.00</td>\n",
       "      <td>569.0</td>\n",
       "    </tr>\n",
       "    <tr>\n",
       "      <th>United Kingdom</th>\n",
       "      <td>268.0</td>\n",
       "      <td>34660.339552</td>\n",
       "      <td>14959.554251</td>\n",
       "      <td>1.0</td>\n",
       "      <td>32039.50</td>\n",
       "      <td>40979.5</td>\n",
       "      <td>41834.25</td>\n",
       "      <td>58030.0</td>\n",
       "    </tr>\n",
       "    <tr>\n",
       "      <th>United States</th>\n",
       "      <td>274.0</td>\n",
       "      <td>132556.711679</td>\n",
       "      <td>79343.854708</td>\n",
       "      <td>1.0</td>\n",
       "      <td>76047.50</td>\n",
       "      <td>136942.5</td>\n",
       "      <td>199788.00</td>\n",
       "      <td>266063.0</td>\n",
       "    </tr>\n",
       "  </tbody>\n",
       "</table>\n",
       "</div>"
      ],
      "text/plain": [
       "                     total_deaths                                              \\\n",
       "                            count           mean           std  min       25%   \n",
       "location                                                                        \n",
       "Afghanistan                 251.0     921.314741    617.389971  1.0    218.50   \n",
       "Brazil                      257.0   81807.669261  60271.115432  1.0  18859.00   \n",
       "China                       324.0    3892.709877   1427.856300  1.0   3309.75   \n",
       "Ireland                     263.0    1483.577947    605.804752  1.0   1525.50   \n",
       "Israel                      254.0     919.791339    900.768780  1.0    279.00   \n",
       "Peru                        255.0   17450.023529  13751.896471  2.0   3196.00   \n",
       "Russia                      248.0   13736.455645  10531.586361  2.0   3927.75   \n",
       "United Arab Emirates        253.0     312.861660    155.705386  2.0    244.00   \n",
       "United Kingdom              268.0   34660.339552  14959.554251  1.0  32039.50   \n",
       "United States               274.0  132556.711679  79343.854708  1.0  76047.50   \n",
       "\n",
       "                                                     \n",
       "                           50%        75%       max  \n",
       "location                                             \n",
       "Afghanistan             1269.0    1453.00    1763.0  \n",
       "Brazil                 84082.0  140537.00  172561.0  \n",
       "China                   4638.5    4733.00    4739.0  \n",
       "Ireland                 1753.0    1795.50    2050.0  \n",
       "Israel                   452.5    1432.00    2854.0  \n",
       "Peru                   17843.0   32089.50   35879.0  \n",
       "Russia                 13429.0   20339.25   39527.0  \n",
       "United Arab Emirates     343.0     411.00     569.0  \n",
       "United Kingdom         40979.5   41834.25   58030.0  \n",
       "United States         136942.5  199788.00  266063.0  "
      ]
     },
     "execution_count": 112,
     "metadata": {},
     "output_type": "execute_result"
    }
   ],
   "source": [
    "Summary_Stats_Countries = Combined_Countries.groupby([\"location\"])[[\"total_deaths\"]].describe()\n",
    "Summary_Stats_Countries"
   ]
  },
  {
   "cell_type": "code",
   "execution_count": null,
   "metadata": {},
   "outputs": [],
   "source": [
    "# Using pg. 29 of your text as an example, compare two scenarios in your data using a PMF. \n",
    "# Reminder, this isn’t comparing two variables against each other – it is the same variable, but a different scenario. \n",
    "# Almost like a filter. \n",
    "# The example in the book is first babies compared to all other babies, it is still the same variable, but breaking the data out based on criteria we are exploring (Chapter 3)."
   ]
  },
  {
   "cell_type": "code",
   "execution_count": 116,
   "metadata": {},
   "outputs": [],
   "source": [
    "World_pmf = thinkstats2.Pmf(World_df['total_deaths'])\n",
    "China_pmf = thinkstats2.Pmf(China_df['total_deaths'])"
   ]
  },
  {
   "cell_type": "code",
   "execution_count": 121,
   "metadata": {},
   "outputs": [
    {
     "name": "stderr",
     "output_type": "stream",
     "text": [
      "No handles with labels found to put in legend.\n"
     ]
    },
    {
     "data": {
      "image/png": "[encoded data removed]",
      "text/plain": [
       "<Figure size 432x288 with 1 Axes>"
      ]
     },
     "metadata": {
      "needs_background": "light"
     },
     "output_type": "display_data"
    }
   ],
   "source": [
    "thinkplot.PrePlot(2)\n",
    "thinkplot.Pmfs([World_pmf, China_pmf])\n",
    "thinkplot.Config(xlabel='Total Deaths across the Covid-19 Pandemic', ylabel='PMF')"
   ]
  },
  {
   "cell_type": "code",
   "execution_count": null,
   "metadata": {},
   "outputs": [],
   "source": [
    "# Create 1 CDF with one of your variables, using page 41-44 as your guide, what does this tell you about your variable and how does it address the question you are trying to answer (Chapter 4)."
   ]
  },
  {
   "cell_type": "code",
   "execution_count": 169,
   "metadata": {
    "scrolled": true
   },
   "outputs": [
    {
     "name": "stdout",
     "output_type": "stream",
     "text": [
      "China_df 335 324\n",
      "China_df 335 335\n",
      "World_df 335 324\n"
     ]
    }
   ],
   "source": [
    "#live, firsts, others = first.MakeFrames()\n",
    "China_deaths = China_df.total_deaths\n",
    "China_cases = China_df.total_cases\n",
    "China_deaths_dropna = China_deaths.dropna()\n",
    "China_cases_dropna = China_cases.dropna()\n",
    "print('China_df', len(China_deaths), len(China_deaths_dropna))\n",
    "print('China_df', len(China_cases), len(China_cases_dropna))\n",
    " \n",
    "World_deaths = World_df.total_deaths\n",
    "World_deaths_dropna = World_deaths.dropna()\n",
    "print('World_df', len(World_deaths), len(World_deaths_dropna))\n",
    "\n",
    "China_pmf = thinkstats2.Pmf(China_deaths_dropna, label='China')\n",
    "World_pmf = thinkstats2.Pmf(World_deaths_dropna, label='World')"
   ]
  },
  {
   "cell_type": "code",
   "execution_count": 133,
   "metadata": {},
   "outputs": [
    {
     "data": {
      "text/plain": [
       "66.9753086419753"
      ]
     },
     "execution_count": 133,
     "metadata": {},
     "output_type": "execute_result"
    }
   ],
   "source": [
    "China_cdf = thinkstats2.Cdf(China_df.total_deaths, label='China')\n",
    "\n",
    "China_cdf.PercentileRank(4700) \n",
    "# With a value set at 4700, ~70% of the total deaths occured in China. This low death rate is due to either misinformation, or extreme and careful govermental intervention. "
   ]
  },
  {
   "cell_type": "code",
   "execution_count": 134,
   "metadata": {},
   "outputs": [
    {
     "data": {
      "text/plain": [
       "19.1358024691358"
      ]
     },
     "execution_count": 134,
     "metadata": {},
     "output_type": "execute_result"
    }
   ],
   "source": [
    "World_cdf = thinkstats2.Cdf(World_df.total_deaths, label='World')\n",
    "\n",
    "World_cdf.PercentileRank(4700) # At the same value, the World death count was ~19%. "
   ]
  },
  {
   "cell_type": "code",
   "execution_count": null,
   "metadata": {},
   "outputs": [],
   "source": [
    "# Plot 1 analytical distribution and provide your analysis on how it applies to the dataset you have chosen (Chapter 5)."
   ]
  },
  {
   "cell_type": "code",
   "execution_count": 149,
   "metadata": {},
   "outputs": [
    {
     "data": {
      "text/html": [
       "<div>\n",
       "<style scoped>\n",
       "    .dataframe tbody tr th:only-of-type {\n",
       "        vertical-align: middle;\n",
       "    }\n",
       "\n",
       "    .dataframe tbody tr th {\n",
       "        vertical-align: top;\n",
       "    }\n",
       "\n",
       "    .dataframe thead th {\n",
       "        text-align: right;\n",
       "    }\n",
       "</style>\n",
       "<table border=\"1\" class=\"dataframe\">\n",
       "  <thead>\n",
       "    <tr style=\"text-align: right;\">\n",
       "      <th></th>\n",
       "      <th>date</th>\n",
       "      <th>location</th>\n",
       "      <th>new_cases</th>\n",
       "      <th>new_deaths</th>\n",
       "      <th>total_cases</th>\n",
       "      <th>total_deaths</th>\n",
       "      <th>weekly_cases</th>\n",
       "      <th>weekly_deaths</th>\n",
       "      <th>biweekly_cases</th>\n",
       "      <th>biweekly_deaths</th>\n",
       "    </tr>\n",
       "  </thead>\n",
       "  <tbody>\n",
       "    <tr>\n",
       "      <th>11487</th>\n",
       "      <td>2019-12-31</td>\n",
       "      <td>China</td>\n",
       "      <td>27.0</td>\n",
       "      <td>0.0</td>\n",
       "      <td>27.0</td>\n",
       "      <td>NaN</td>\n",
       "      <td>NaN</td>\n",
       "      <td>NaN</td>\n",
       "      <td>NaN</td>\n",
       "      <td>NaN</td>\n",
       "    </tr>\n",
       "    <tr>\n",
       "      <th>11488</th>\n",
       "      <td>2020-01-01</td>\n",
       "      <td>China</td>\n",
       "      <td>0.0</td>\n",
       "      <td>0.0</td>\n",
       "      <td>27.0</td>\n",
       "      <td>NaN</td>\n",
       "      <td>NaN</td>\n",
       "      <td>NaN</td>\n",
       "      <td>NaN</td>\n",
       "      <td>NaN</td>\n",
       "    </tr>\n",
       "    <tr>\n",
       "      <th>11489</th>\n",
       "      <td>2020-01-02</td>\n",
       "      <td>China</td>\n",
       "      <td>0.0</td>\n",
       "      <td>0.0</td>\n",
       "      <td>27.0</td>\n",
       "      <td>NaN</td>\n",
       "      <td>NaN</td>\n",
       "      <td>NaN</td>\n",
       "      <td>NaN</td>\n",
       "      <td>NaN</td>\n",
       "    </tr>\n",
       "    <tr>\n",
       "      <th>11490</th>\n",
       "      <td>2020-01-03</td>\n",
       "      <td>China</td>\n",
       "      <td>17.0</td>\n",
       "      <td>0.0</td>\n",
       "      <td>44.0</td>\n",
       "      <td>NaN</td>\n",
       "      <td>NaN</td>\n",
       "      <td>NaN</td>\n",
       "      <td>NaN</td>\n",
       "      <td>NaN</td>\n",
       "    </tr>\n",
       "    <tr>\n",
       "      <th>11491</th>\n",
       "      <td>2020-01-04</td>\n",
       "      <td>China</td>\n",
       "      <td>0.0</td>\n",
       "      <td>0.0</td>\n",
       "      <td>44.0</td>\n",
       "      <td>NaN</td>\n",
       "      <td>NaN</td>\n",
       "      <td>NaN</td>\n",
       "      <td>NaN</td>\n",
       "      <td>NaN</td>\n",
       "    </tr>\n",
       "  </tbody>\n",
       "</table>\n",
       "</div>"
      ],
      "text/plain": [
       "             date location  new_cases  new_deaths  total_cases  total_deaths  \\\n",
       "11487  2019-12-31    China       27.0         0.0         27.0           NaN   \n",
       "11488  2020-01-01    China        0.0         0.0         27.0           NaN   \n",
       "11489  2020-01-02    China        0.0         0.0         27.0           NaN   \n",
       "11490  2020-01-03    China       17.0         0.0         44.0           NaN   \n",
       "11491  2020-01-04    China        0.0         0.0         44.0           NaN   \n",
       "\n",
       "       weekly_cases  weekly_deaths  biweekly_cases  biweekly_deaths  \n",
       "11487           NaN            NaN             NaN              NaN  \n",
       "11488           NaN            NaN             NaN              NaN  \n",
       "11489           NaN            NaN             NaN              NaN  \n",
       "11490           NaN            NaN             NaN              NaN  \n",
       "11491           NaN            NaN             NaN              NaN  "
      ]
     },
     "execution_count": 149,
     "metadata": {},
     "output_type": "execute_result"
    },
    {
     "data": {
      "text/plain": [
       "11487    2019-12-31\n",
       "11488    2020-01-01\n",
       "11489    2020-01-02\n",
       "11490    2020-01-03\n",
       "11491    2020-01-04\n",
       "            ...    \n",
       "11817    2020-11-25\n",
       "11818    2020-11-26\n",
       "11819    2020-11-27\n",
       "11820    2020-11-28\n",
       "11821    2020-11-29\n",
       "Name: date, Length: 335, dtype: object"
      ]
     },
     "execution_count": 149,
     "metadata": {},
     "output_type": "execute_result"
    }
   ],
   "source": [
    "China_df.head()\n",
    "China_df.date"
   ]
  },
  {
   "cell_type": "code",
   "execution_count": 153,
   "metadata": {},
   "outputs": [
    {
     "data": {
      "text/plain": [
       "{'xscale': 'linear', 'yscale': 'linear'}"
      ]
     },
     "execution_count": 153,
     "metadata": {},
     "output_type": "execute_result"
    },
    {
     "data": {
      "image/png": "[encoded data removed]",
      "text/plain": [
       "<Figure size 432x288 with 1 Axes>"
      ]
     },
     "metadata": {
      "needs_background": "light"
     },
     "output_type": "display_data"
    }
   ],
   "source": [
    "thinkplot.Cdf(China_cdf)\n",
    "thinkplot.Config(xlabel='Total Deaths in China', ylabel='CDF')"
   ]
  },
  {
   "cell_type": "code",
   "execution_count": 154,
   "metadata": {},
   "outputs": [
    {
     "data": {
      "text/plain": [
       "{'xscale': 'linear', 'yscale': 'linear'}"
      ]
     },
     "execution_count": 154,
     "metadata": {},
     "output_type": "execute_result"
    },
    {
     "data": {
      "image/png": "[encoded data removed]",
      "text/plain": [
       "<Figure size 432x288 with 1 Axes>"
      ]
     },
     "metadata": {
      "needs_background": "light"
     },
     "output_type": "display_data"
    }
   ],
   "source": [
    "thinkplot.Cdf(World_cdf)\n",
    "thinkplot.Config(xlabel='Total Deaths in the World', ylabel='CDF')"
   ]
  },
  {
   "cell_type": "code",
   "execution_count": null,
   "metadata": {},
   "outputs": [],
   "source": [
    "# Comparing the both the graphs, the World data tends to have a more evenly distributed data. \n",
    "# While China's deaths as a probability through the pandemic becomes extremely likely towards the tail end of 2020. \n",
    "# This different than the world as the probability of death increases gradually through the lifetime of the pandemic. "
   ]
  },
  {
   "cell_type": "code",
   "execution_count": null,
   "metadata": {},
   "outputs": [],
   "source": [
    "# Create two scatter plots comparing two variables and provide your analysis on correlation and causation. \n",
    "# Remember, covariance, Pearson’s correlation, and Non-Linear Relationships should also be considered during your analysis (Chapter 7).\n",
    "\n",
    "# Conduct a test on your hypothesis using one of the methods covered in Chapter 9."
   ]
  },
  {
   "cell_type": "code",
   "execution_count": 158,
   "metadata": {
    "scrolled": false
   },
   "outputs": [
    {
     "data": {
      "text/plain": [
       "<AxesSubplot:xlabel='total_cases'>"
      ]
     },
     "execution_count": 158,
     "metadata": {},
     "output_type": "execute_result"
    },
    {
     "data": {
      "text/plain": [
       "<AxesSubplot:xlabel='total_cases'>"
      ]
     },
     "execution_count": 158,
     "metadata": {},
     "output_type": "execute_result"
    },
    {
     "data": {
      "image/png": "[encoded data removed]",
      "text/plain": [
       "<Figure size 432x288 with 1 Axes>"
      ]
     },
     "metadata": {
      "needs_background": "light"
     },
     "output_type": "display_data"
    },
    {
     "data": {
      "image/png": "[encoded data removed]",
      "text/plain": [
       "<Figure size 432x288 with 1 Axes>"
      ]
     },
     "metadata": {
      "needs_background": "light"
     },
     "output_type": "display_data"
    }
   ],
   "source": [
    "China_df.plot(x='total_cases', y='total_deaths', style='o')\n",
    "United_States_df.plot(x='total_cases', y='total_deaths', style='o')"
   ]
  },
  {
   "cell_type": "code",
   "execution_count": 171,
   "metadata": {
    "scrolled": true
   },
   "outputs": [
    {
     "name": "stdout",
     "output_type": "stream",
     "text": [
      "Spearmans Correlation coefficient: nan\n",
      "Samples are correlated (Reject H0) p=nan\n"
     ]
    }
   ],
   "source": [
    "data1 = China_df.total_cases\n",
    "\n",
    "data2 = China_df.total_deaths\n",
    "\n",
    "coef, p = spearmanr(data1, data2)\n",
    "print('Spearmans Correlation coefficient: %.3f' % coef)\n",
    "\n",
    "alpha = 0.05\n",
    "\n",
    "if p > alpha:\n",
    "    print('Samples are uncorrelated (fail to reject H0) p=%.3f' % p)\n",
    "else:\n",
    "    print('Samples are correlated (Reject H0) p=%3.f' % p)"
   ]
  },
  {
   "cell_type": "code",
   "execution_count": null,
   "metadata": {},
   "outputs": [],
   "source": [
    "def SpearmanCorr(xs, ys):\n",
    "        xranks = pandas.Series(xs).rank()\n",
    "        yranks = pandas.Series(ys).rank()\n",
    "        return Corr(xranks, yranks)\n",
    "\n",
    "def SpearmanCorr(xs, ys):\n",
    "        xranks = pandas.Series(xs)\n",
    "        yranks = pandas.Series(ys)\n",
    "        return xs.corr(ys, method='spearman')"
   ]
  },
  {
   "cell_type": "code",
   "execution_count": null,
   "metadata": {},
   "outputs": [],
   "source": [
    "# Since the values of the ith or jth variable do not vary, then the respective standard deviation is zero and so will the denominator of the fraction. \n",
    "# Thus, the correlation will be NaN. \n",
    "# To me, there is a basic lack of general information from China. However, if we assumed the data was complete. Then the scatterplot indicates that there is a lower correlation between cases vs. deaths. \n",
    "# Which means, although people are infected, they are not dying from Covid-19 in China. "
   ]
  },
  {
   "cell_type": "code",
   "execution_count": null,
   "metadata": {},
   "outputs": [],
   "source": [
    "# Conduct a test on your hypothesis using one of the methods covered in Chapter 9."
   ]
  },
  {
   "cell_type": "code",
   "execution_count": 196,
   "metadata": {},
   "outputs": [],
   "source": [
    "class CorrelationPermute(thinkstats2.HypothesisTest):\n",
    "        def TestStatistic(self, data):\n",
    "            xs, ys = data\n",
    "            test_stat = abs(thinkstats2.Corr(xs, ys))\n",
    "            return test_stat\n",
    "        def RunModel(self):\n",
    "            xs, ys = self.data\n",
    "            xs = np.random.permutation(xs)\n",
    "            return xs, ys"
   ]
  },
  {
   "cell_type": "code",
   "execution_count": 199,
   "metadata": {},
   "outputs": [
    {
     "data": {
      "text/plain": [
       "0.0"
      ]
     },
     "execution_count": 199,
     "metadata": {},
     "output_type": "execute_result"
    }
   ],
   "source": [
    "#live, firsts, others = first.MakeFrames()\n",
    "live = China_df.dropna(subset=['total_deaths', 'total_cases'])\n",
    "data = China_df.total_deaths.values, China_df.total_cases.values\n",
    "ht = CorrelationPermute(data)\n",
    "pvalue = ht.PValue()\n",
    "pvalue\n",
    "# There is a correlation of 0 between both the total deaths and total cases in China. "
   ]
  },
  {
   "cell_type": "code",
   "execution_count": 201,
   "metadata": {},
   "outputs": [
    {
     "data": {
      "text/plain": [
       "0.0"
      ]
     },
     "execution_count": 201,
     "metadata": {},
     "output_type": "execute_result"
    }
   ],
   "source": [
    "#live, firsts, others = first.MakeFrames()\n",
    "live = United_States_df.dropna(subset=['total_deaths', 'total_cases'])\n",
    "data = United_States_df.total_deaths.values, United_States_df.total_cases.values\n",
    "ht = CorrelationPermute(data)\n",
    "pvalue = ht.PValue()\n",
    "pvalue\n",
    "# There is a correlation of 0 between both the total deaths and total cases in the United States. "
   ]
  },
  {
   "cell_type": "code",
   "execution_count": null,
   "metadata": {},
   "outputs": [],
   "source": [
    "# For this project, conduct a regression analysis on either one dependent and one explanatory variable, or multiple explanatory variables (Chapter 10 & 11)."
   ]
  },
  {
   "cell_type": "code",
   "execution_count": 205,
   "metadata": {},
   "outputs": [
    {
     "data": {
      "text/html": [
       "<div>\n",
       "<style scoped>\n",
       "    .dataframe tbody tr th:only-of-type {\n",
       "        vertical-align: middle;\n",
       "    }\n",
       "\n",
       "    .dataframe tbody tr th {\n",
       "        vertical-align: top;\n",
       "    }\n",
       "\n",
       "    .dataframe thead th {\n",
       "        text-align: right;\n",
       "    }\n",
       "</style>\n",
       "<table border=\"1\" class=\"dataframe\">\n",
       "  <thead>\n",
       "    <tr style=\"text-align: right;\">\n",
       "      <th></th>\n",
       "      <th>date</th>\n",
       "      <th>location</th>\n",
       "      <th>new_cases</th>\n",
       "      <th>new_deaths</th>\n",
       "      <th>total_cases</th>\n",
       "      <th>total_deaths</th>\n",
       "      <th>weekly_cases</th>\n",
       "      <th>weekly_deaths</th>\n",
       "      <th>biweekly_cases</th>\n",
       "      <th>biweekly_deaths</th>\n",
       "    </tr>\n",
       "  </thead>\n",
       "  <tbody>\n",
       "    <tr>\n",
       "      <th>56031</th>\n",
       "      <td>2019-12-31</td>\n",
       "      <td>United States</td>\n",
       "      <td>0.0</td>\n",
       "      <td>0.0</td>\n",
       "      <td>NaN</td>\n",
       "      <td>NaN</td>\n",
       "      <td>NaN</td>\n",
       "      <td>NaN</td>\n",
       "      <td>NaN</td>\n",
       "      <td>NaN</td>\n",
       "    </tr>\n",
       "    <tr>\n",
       "      <th>56032</th>\n",
       "      <td>2020-01-01</td>\n",
       "      <td>United States</td>\n",
       "      <td>0.0</td>\n",
       "      <td>0.0</td>\n",
       "      <td>NaN</td>\n",
       "      <td>NaN</td>\n",
       "      <td>NaN</td>\n",
       "      <td>NaN</td>\n",
       "      <td>NaN</td>\n",
       "      <td>NaN</td>\n",
       "    </tr>\n",
       "    <tr>\n",
       "      <th>56033</th>\n",
       "      <td>2020-01-02</td>\n",
       "      <td>United States</td>\n",
       "      <td>0.0</td>\n",
       "      <td>0.0</td>\n",
       "      <td>NaN</td>\n",
       "      <td>NaN</td>\n",
       "      <td>NaN</td>\n",
       "      <td>NaN</td>\n",
       "      <td>NaN</td>\n",
       "      <td>NaN</td>\n",
       "    </tr>\n",
       "    <tr>\n",
       "      <th>56034</th>\n",
       "      <td>2020-01-03</td>\n",
       "      <td>United States</td>\n",
       "      <td>0.0</td>\n",
       "      <td>0.0</td>\n",
       "      <td>NaN</td>\n",
       "      <td>NaN</td>\n",
       "      <td>NaN</td>\n",
       "      <td>NaN</td>\n",
       "      <td>NaN</td>\n",
       "      <td>NaN</td>\n",
       "    </tr>\n",
       "    <tr>\n",
       "      <th>56035</th>\n",
       "      <td>2020-01-04</td>\n",
       "      <td>United States</td>\n",
       "      <td>0.0</td>\n",
       "      <td>0.0</td>\n",
       "      <td>NaN</td>\n",
       "      <td>NaN</td>\n",
       "      <td>NaN</td>\n",
       "      <td>NaN</td>\n",
       "      <td>NaN</td>\n",
       "      <td>NaN</td>\n",
       "    </tr>\n",
       "    <tr>\n",
       "      <th>...</th>\n",
       "      <td>...</td>\n",
       "      <td>...</td>\n",
       "      <td>...</td>\n",
       "      <td>...</td>\n",
       "      <td>...</td>\n",
       "      <td>...</td>\n",
       "      <td>...</td>\n",
       "      <td>...</td>\n",
       "      <td>...</td>\n",
       "      <td>...</td>\n",
       "    </tr>\n",
       "    <tr>\n",
       "      <th>56361</th>\n",
       "      <td>2020-11-25</td>\n",
       "      <td>United States</td>\n",
       "      <td>170293.0</td>\n",
       "      <td>2224.0</td>\n",
       "      <td>12591165.0</td>\n",
       "      <td>259925.0</td>\n",
       "      <td>1231363.0</td>\n",
       "      <td>11238.0</td>\n",
       "      <td>2333339.0</td>\n",
       "      <td>20242.0</td>\n",
       "    </tr>\n",
       "    <tr>\n",
       "      <th>56362</th>\n",
       "      <td>2020-11-26</td>\n",
       "      <td>United States</td>\n",
       "      <td>186589.0</td>\n",
       "      <td>2341.0</td>\n",
       "      <td>12777754.0</td>\n",
       "      <td>262266.0</td>\n",
       "      <td>1247947.0</td>\n",
       "      <td>11729.0</td>\n",
       "      <td>2376622.0</td>\n",
       "      <td>20466.0</td>\n",
       "    </tr>\n",
       "    <tr>\n",
       "      <th>56363</th>\n",
       "      <td>2020-11-27</td>\n",
       "      <td>United States</td>\n",
       "      <td>106091.0</td>\n",
       "      <td>1189.0</td>\n",
       "      <td>12883845.0</td>\n",
       "      <td>263455.0</td>\n",
       "      <td>1166018.0</td>\n",
       "      <td>10900.0</td>\n",
       "      <td>2329044.0</td>\n",
       "      <td>21025.0</td>\n",
       "    </tr>\n",
       "    <tr>\n",
       "      <th>56364</th>\n",
       "      <td>2020-11-28</td>\n",
       "      <td>United States</td>\n",
       "      <td>207913.0</td>\n",
       "      <td>1404.0</td>\n",
       "      <td>13091758.0</td>\n",
       "      <td>264859.0</td>\n",
       "      <td>1177814.0</td>\n",
       "      <td>10446.0</td>\n",
       "      <td>2352144.0</td>\n",
       "      <td>20514.0</td>\n",
       "    </tr>\n",
       "    <tr>\n",
       "      <th>56365</th>\n",
       "      <td>2020-11-29</td>\n",
       "      <td>United States</td>\n",
       "      <td>154893.0</td>\n",
       "      <td>1204.0</td>\n",
       "      <td>13246651.0</td>\n",
       "      <td>266063.0</td>\n",
       "      <td>1157213.0</td>\n",
       "      <td>10164.0</td>\n",
       "      <td>2341760.0</td>\n",
       "      <td>20463.0</td>\n",
       "    </tr>\n",
       "  </tbody>\n",
       "</table>\n",
       "<p>335 rows × 10 columns</p>\n",
       "</div>"
      ],
      "text/plain": [
       "             date       location  new_cases  new_deaths  total_cases  \\\n",
       "56031  2019-12-31  United States        0.0         0.0          NaN   \n",
       "56032  2020-01-01  United States        0.0         0.0          NaN   \n",
       "56033  2020-01-02  United States        0.0         0.0          NaN   \n",
       "56034  2020-01-03  United States        0.0         0.0          NaN   \n",
       "56035  2020-01-04  United States        0.0         0.0          NaN   \n",
       "...           ...            ...        ...         ...          ...   \n",
       "56361  2020-11-25  United States   170293.0      2224.0   12591165.0   \n",
       "56362  2020-11-26  United States   186589.0      2341.0   12777754.0   \n",
       "56363  2020-11-27  United States   106091.0      1189.0   12883845.0   \n",
       "56364  2020-11-28  United States   207913.0      1404.0   13091758.0   \n",
       "56365  2020-11-29  United States   154893.0      1204.0   13246651.0   \n",
       "\n",
       "       total_deaths  weekly_cases  weekly_deaths  biweekly_cases  \\\n",
       "56031           NaN           NaN            NaN             NaN   \n",
       "56032           NaN           NaN            NaN             NaN   \n",
       "56033           NaN           NaN            NaN             NaN   \n",
       "56034           NaN           NaN            NaN             NaN   \n",
       "56035           NaN           NaN            NaN             NaN   \n",
       "...             ...           ...            ...             ...   \n",
       "56361      259925.0     1231363.0        11238.0       2333339.0   \n",
       "56362      262266.0     1247947.0        11729.0       2376622.0   \n",
       "56363      263455.0     1166018.0        10900.0       2329044.0   \n",
       "56364      264859.0     1177814.0        10446.0       2352144.0   \n",
       "56365      266063.0     1157213.0        10164.0       2341760.0   \n",
       "\n",
       "       biweekly_deaths  \n",
       "56031              NaN  \n",
       "56032              NaN  \n",
       "56033              NaN  \n",
       "56034              NaN  \n",
       "56035              NaN  \n",
       "...                ...  \n",
       "56361          20242.0  \n",
       "56362          20466.0  \n",
       "56363          21025.0  \n",
       "56364          20514.0  \n",
       "56365          20463.0  \n",
       "\n",
       "[335 rows x 10 columns]"
      ]
     },
     "execution_count": 205,
     "metadata": {},
     "output_type": "execute_result"
    },
    {
     "data": {
      "text/html": [
       "<div>\n",
       "<style scoped>\n",
       "    .dataframe tbody tr th:only-of-type {\n",
       "        vertical-align: middle;\n",
       "    }\n",
       "\n",
       "    .dataframe tbody tr th {\n",
       "        vertical-align: top;\n",
       "    }\n",
       "\n",
       "    .dataframe thead th {\n",
       "        text-align: right;\n",
       "    }\n",
       "</style>\n",
       "<table border=\"1\" class=\"dataframe\">\n",
       "  <thead>\n",
       "    <tr style=\"text-align: right;\">\n",
       "      <th></th>\n",
       "      <th>date</th>\n",
       "      <th>location</th>\n",
       "      <th>new_cases</th>\n",
       "      <th>new_deaths</th>\n",
       "      <th>total_cases</th>\n",
       "      <th>total_deaths</th>\n",
       "      <th>weekly_cases</th>\n",
       "      <th>weekly_deaths</th>\n",
       "      <th>biweekly_cases</th>\n",
       "      <th>biweekly_deaths</th>\n",
       "    </tr>\n",
       "  </thead>\n",
       "  <tbody>\n",
       "    <tr>\n",
       "      <th>44262</th>\n",
       "      <td>2019-12-31</td>\n",
       "      <td>Russia</td>\n",
       "      <td>0.0</td>\n",
       "      <td>0.0</td>\n",
       "      <td>NaN</td>\n",
       "      <td>NaN</td>\n",
       "      <td>NaN</td>\n",
       "      <td>NaN</td>\n",
       "      <td>NaN</td>\n",
       "      <td>NaN</td>\n",
       "    </tr>\n",
       "    <tr>\n",
       "      <th>44263</th>\n",
       "      <td>2020-01-01</td>\n",
       "      <td>Russia</td>\n",
       "      <td>0.0</td>\n",
       "      <td>0.0</td>\n",
       "      <td>NaN</td>\n",
       "      <td>NaN</td>\n",
       "      <td>NaN</td>\n",
       "      <td>NaN</td>\n",
       "      <td>NaN</td>\n",
       "      <td>NaN</td>\n",
       "    </tr>\n",
       "    <tr>\n",
       "      <th>44264</th>\n",
       "      <td>2020-01-02</td>\n",
       "      <td>Russia</td>\n",
       "      <td>0.0</td>\n",
       "      <td>0.0</td>\n",
       "      <td>NaN</td>\n",
       "      <td>NaN</td>\n",
       "      <td>NaN</td>\n",
       "      <td>NaN</td>\n",
       "      <td>NaN</td>\n",
       "      <td>NaN</td>\n",
       "    </tr>\n",
       "    <tr>\n",
       "      <th>44265</th>\n",
       "      <td>2020-01-03</td>\n",
       "      <td>Russia</td>\n",
       "      <td>0.0</td>\n",
       "      <td>0.0</td>\n",
       "      <td>NaN</td>\n",
       "      <td>NaN</td>\n",
       "      <td>NaN</td>\n",
       "      <td>NaN</td>\n",
       "      <td>NaN</td>\n",
       "      <td>NaN</td>\n",
       "    </tr>\n",
       "    <tr>\n",
       "      <th>44266</th>\n",
       "      <td>2020-01-04</td>\n",
       "      <td>Russia</td>\n",
       "      <td>0.0</td>\n",
       "      <td>0.0</td>\n",
       "      <td>NaN</td>\n",
       "      <td>NaN</td>\n",
       "      <td>NaN</td>\n",
       "      <td>NaN</td>\n",
       "      <td>NaN</td>\n",
       "      <td>NaN</td>\n",
       "    </tr>\n",
       "    <tr>\n",
       "      <th>...</th>\n",
       "      <td>...</td>\n",
       "      <td>...</td>\n",
       "      <td>...</td>\n",
       "      <td>...</td>\n",
       "      <td>...</td>\n",
       "      <td>...</td>\n",
       "      <td>...</td>\n",
       "      <td>...</td>\n",
       "      <td>...</td>\n",
       "      <td>...</td>\n",
       "    </tr>\n",
       "    <tr>\n",
       "      <th>44592</th>\n",
       "      <td>2020-11-25</td>\n",
       "      <td>Russia</td>\n",
       "      <td>23675.0</td>\n",
       "      <td>507.0</td>\n",
       "      <td>2162503.0</td>\n",
       "      <td>37538.0</td>\n",
       "      <td>170505.0</td>\n",
       "      <td>3151.0</td>\n",
       "      <td>345394.0</td>\n",
       "      <td>6377.0</td>\n",
       "    </tr>\n",
       "    <tr>\n",
       "      <th>44593</th>\n",
       "      <td>2020-11-26</td>\n",
       "      <td>Russia</td>\n",
       "      <td>25487.0</td>\n",
       "      <td>524.0</td>\n",
       "      <td>2187990.0</td>\n",
       "      <td>38062.0</td>\n",
       "      <td>172382.0</td>\n",
       "      <td>3212.0</td>\n",
       "      <td>351030.0</td>\n",
       "      <td>6469.0</td>\n",
       "    </tr>\n",
       "    <tr>\n",
       "      <th>44594</th>\n",
       "      <td>2020-11-27</td>\n",
       "      <td>Russia</td>\n",
       "      <td>27543.0</td>\n",
       "      <td>496.0</td>\n",
       "      <td>2215533.0</td>\n",
       "      <td>38558.0</td>\n",
       "      <td>175607.0</td>\n",
       "      <td>3247.0</td>\n",
       "      <td>356965.0</td>\n",
       "      <td>6526.0</td>\n",
       "    </tr>\n",
       "    <tr>\n",
       "      <th>44595</th>\n",
       "      <td>2020-11-28</td>\n",
       "      <td>Russia</td>\n",
       "      <td>27100.0</td>\n",
       "      <td>510.0</td>\n",
       "      <td>2242633.0</td>\n",
       "      <td>39068.0</td>\n",
       "      <td>177885.0</td>\n",
       "      <td>3290.0</td>\n",
       "      <td>362082.0</td>\n",
       "      <td>6625.0</td>\n",
       "    </tr>\n",
       "    <tr>\n",
       "      <th>44596</th>\n",
       "      <td>2020-11-29</td>\n",
       "      <td>Russia</td>\n",
       "      <td>26683.0</td>\n",
       "      <td>459.0</td>\n",
       "      <td>2269316.0</td>\n",
       "      <td>39527.0</td>\n",
       "      <td>179987.0</td>\n",
       "      <td>3348.0</td>\n",
       "      <td>366063.0</td>\n",
       "      <td>6693.0</td>\n",
       "    </tr>\n",
       "  </tbody>\n",
       "</table>\n",
       "<p>335 rows × 10 columns</p>\n",
       "</div>"
      ],
      "text/plain": [
       "             date location  new_cases  new_deaths  total_cases  total_deaths  \\\n",
       "44262  2019-12-31   Russia        0.0         0.0          NaN           NaN   \n",
       "44263  2020-01-01   Russia        0.0         0.0          NaN           NaN   \n",
       "44264  2020-01-02   Russia        0.0         0.0          NaN           NaN   \n",
       "44265  2020-01-03   Russia        0.0         0.0          NaN           NaN   \n",
       "44266  2020-01-04   Russia        0.0         0.0          NaN           NaN   \n",
       "...           ...      ...        ...         ...          ...           ...   \n",
       "44592  2020-11-25   Russia    23675.0       507.0    2162503.0       37538.0   \n",
       "44593  2020-11-26   Russia    25487.0       524.0    2187990.0       38062.0   \n",
       "44594  2020-11-27   Russia    27543.0       496.0    2215533.0       38558.0   \n",
       "44595  2020-11-28   Russia    27100.0       510.0    2242633.0       39068.0   \n",
       "44596  2020-11-29   Russia    26683.0       459.0    2269316.0       39527.0   \n",
       "\n",
       "       weekly_cases  weekly_deaths  biweekly_cases  biweekly_deaths  \n",
       "44262           NaN            NaN             NaN              NaN  \n",
       "44263           NaN            NaN             NaN              NaN  \n",
       "44264           NaN            NaN             NaN              NaN  \n",
       "44265           NaN            NaN             NaN              NaN  \n",
       "44266           NaN            NaN             NaN              NaN  \n",
       "...             ...            ...             ...              ...  \n",
       "44592      170505.0         3151.0        345394.0           6377.0  \n",
       "44593      172382.0         3212.0        351030.0           6469.0  \n",
       "44594      175607.0         3247.0        356965.0           6526.0  \n",
       "44595      177885.0         3290.0        362082.0           6625.0  \n",
       "44596      179987.0         3348.0        366063.0           6693.0  \n",
       "\n",
       "[335 rows x 10 columns]"
      ]
     },
     "execution_count": 205,
     "metadata": {},
     "output_type": "execute_result"
    },
    {
     "data": {
      "text/html": [
       "<div>\n",
       "<style scoped>\n",
       "    .dataframe tbody tr th:only-of-type {\n",
       "        vertical-align: middle;\n",
       "    }\n",
       "\n",
       "    .dataframe tbody tr th {\n",
       "        vertical-align: top;\n",
       "    }\n",
       "\n",
       "    .dataframe thead th {\n",
       "        text-align: right;\n",
       "    }\n",
       "</style>\n",
       "<table border=\"1\" class=\"dataframe\">\n",
       "  <thead>\n",
       "    <tr style=\"text-align: right;\">\n",
       "      <th></th>\n",
       "      <th>date</th>\n",
       "      <th>location</th>\n",
       "      <th>new_cases</th>\n",
       "      <th>new_deaths</th>\n",
       "      <th>total_cases</th>\n",
       "      <th>total_deaths</th>\n",
       "      <th>weekly_cases</th>\n",
       "      <th>weekly_deaths</th>\n",
       "      <th>biweekly_cases</th>\n",
       "      <th>biweekly_deaths</th>\n",
       "    </tr>\n",
       "  </thead>\n",
       "  <tbody>\n",
       "    <tr>\n",
       "      <th>55696</th>\n",
       "      <td>2019-12-31</td>\n",
       "      <td>United Kingdom</td>\n",
       "      <td>0.0</td>\n",
       "      <td>0.0</td>\n",
       "      <td>NaN</td>\n",
       "      <td>NaN</td>\n",
       "      <td>NaN</td>\n",
       "      <td>NaN</td>\n",
       "      <td>NaN</td>\n",
       "      <td>NaN</td>\n",
       "    </tr>\n",
       "    <tr>\n",
       "      <th>55697</th>\n",
       "      <td>2020-01-01</td>\n",
       "      <td>United Kingdom</td>\n",
       "      <td>0.0</td>\n",
       "      <td>0.0</td>\n",
       "      <td>NaN</td>\n",
       "      <td>NaN</td>\n",
       "      <td>NaN</td>\n",
       "      <td>NaN</td>\n",
       "      <td>NaN</td>\n",
       "      <td>NaN</td>\n",
       "    </tr>\n",
       "    <tr>\n",
       "      <th>55698</th>\n",
       "      <td>2020-01-02</td>\n",
       "      <td>United Kingdom</td>\n",
       "      <td>0.0</td>\n",
       "      <td>0.0</td>\n",
       "      <td>NaN</td>\n",
       "      <td>NaN</td>\n",
       "      <td>NaN</td>\n",
       "      <td>NaN</td>\n",
       "      <td>NaN</td>\n",
       "      <td>NaN</td>\n",
       "    </tr>\n",
       "    <tr>\n",
       "      <th>55699</th>\n",
       "      <td>2020-01-03</td>\n",
       "      <td>United Kingdom</td>\n",
       "      <td>0.0</td>\n",
       "      <td>0.0</td>\n",
       "      <td>NaN</td>\n",
       "      <td>NaN</td>\n",
       "      <td>NaN</td>\n",
       "      <td>NaN</td>\n",
       "      <td>NaN</td>\n",
       "      <td>NaN</td>\n",
       "    </tr>\n",
       "    <tr>\n",
       "      <th>55700</th>\n",
       "      <td>2020-01-04</td>\n",
       "      <td>United Kingdom</td>\n",
       "      <td>0.0</td>\n",
       "      <td>0.0</td>\n",
       "      <td>NaN</td>\n",
       "      <td>NaN</td>\n",
       "      <td>NaN</td>\n",
       "      <td>NaN</td>\n",
       "      <td>NaN</td>\n",
       "      <td>NaN</td>\n",
       "    </tr>\n",
       "    <tr>\n",
       "      <th>...</th>\n",
       "      <td>...</td>\n",
       "      <td>...</td>\n",
       "      <td>...</td>\n",
       "      <td>...</td>\n",
       "      <td>...</td>\n",
       "      <td>...</td>\n",
       "      <td>...</td>\n",
       "      <td>...</td>\n",
       "      <td>...</td>\n",
       "      <td>...</td>\n",
       "    </tr>\n",
       "    <tr>\n",
       "      <th>56026</th>\n",
       "      <td>2020-11-25</td>\n",
       "      <td>United Kingdom</td>\n",
       "      <td>11299.0</td>\n",
       "      <td>608.0</td>\n",
       "      <td>1538794.0</td>\n",
       "      <td>55838.0</td>\n",
       "      <td>128062.0</td>\n",
       "      <td>3093.0</td>\n",
       "      <td>305019.0</td>\n",
       "      <td>6068.0</td>\n",
       "    </tr>\n",
       "    <tr>\n",
       "      <th>56027</th>\n",
       "      <td>2020-11-26</td>\n",
       "      <td>United Kingdom</td>\n",
       "      <td>18213.0</td>\n",
       "      <td>695.0</td>\n",
       "      <td>1557007.0</td>\n",
       "      <td>56533.0</td>\n",
       "      <td>126666.0</td>\n",
       "      <td>3259.0</td>\n",
       "      <td>300282.0</td>\n",
       "      <td>6168.0</td>\n",
       "    </tr>\n",
       "    <tr>\n",
       "      <th>56028</th>\n",
       "      <td>2020-11-27</td>\n",
       "      <td>United Kingdom</td>\n",
       "      <td>17555.0</td>\n",
       "      <td>498.0</td>\n",
       "      <td>1574562.0</td>\n",
       "      <td>57031.0</td>\n",
       "      <td>121306.0</td>\n",
       "      <td>3256.0</td>\n",
       "      <td>284367.0</td>\n",
       "      <td>6103.0</td>\n",
       "    </tr>\n",
       "    <tr>\n",
       "      <th>56029</th>\n",
       "      <td>2020-11-28</td>\n",
       "      <td>United Kingdom</td>\n",
       "      <td>14739.0</td>\n",
       "      <td>520.0</td>\n",
       "      <td>1589301.0</td>\n",
       "      <td>57551.0</td>\n",
       "      <td>115793.0</td>\n",
       "      <td>3265.0</td>\n",
       "      <td>271805.0</td>\n",
       "      <td>6247.0</td>\n",
       "    </tr>\n",
       "    <tr>\n",
       "      <th>56030</th>\n",
       "      <td>2020-11-29</td>\n",
       "      <td>United Kingdom</td>\n",
       "      <td>15871.0</td>\n",
       "      <td>479.0</td>\n",
       "      <td>1605172.0</td>\n",
       "      <td>58030.0</td>\n",
       "      <td>111789.0</td>\n",
       "      <td>3404.0</td>\n",
       "      <td>260816.0</td>\n",
       "      <td>6264.0</td>\n",
       "    </tr>\n",
       "  </tbody>\n",
       "</table>\n",
       "<p>335 rows × 10 columns</p>\n",
       "</div>"
      ],
      "text/plain": [
       "             date        location  new_cases  new_deaths  total_cases  \\\n",
       "55696  2019-12-31  United Kingdom        0.0         0.0          NaN   \n",
       "55697  2020-01-01  United Kingdom        0.0         0.0          NaN   \n",
       "55698  2020-01-02  United Kingdom        0.0         0.0          NaN   \n",
       "55699  2020-01-03  United Kingdom        0.0         0.0          NaN   \n",
       "55700  2020-01-04  United Kingdom        0.0         0.0          NaN   \n",
       "...           ...             ...        ...         ...          ...   \n",
       "56026  2020-11-25  United Kingdom    11299.0       608.0    1538794.0   \n",
       "56027  2020-11-26  United Kingdom    18213.0       695.0    1557007.0   \n",
       "56028  2020-11-27  United Kingdom    17555.0       498.0    1574562.0   \n",
       "56029  2020-11-28  United Kingdom    14739.0       520.0    1589301.0   \n",
       "56030  2020-11-29  United Kingdom    15871.0       479.0    1605172.0   \n",
       "\n",
       "       total_deaths  weekly_cases  weekly_deaths  biweekly_cases  \\\n",
       "55696           NaN           NaN            NaN             NaN   \n",
       "55697           NaN           NaN            NaN             NaN   \n",
       "55698           NaN           NaN            NaN             NaN   \n",
       "55699           NaN           NaN            NaN             NaN   \n",
       "55700           NaN           NaN            NaN             NaN   \n",
       "...             ...           ...            ...             ...   \n",
       "56026       55838.0      128062.0         3093.0        305019.0   \n",
       "56027       56533.0      126666.0         3259.0        300282.0   \n",
       "56028       57031.0      121306.0         3256.0        284367.0   \n",
       "56029       57551.0      115793.0         3265.0        271805.0   \n",
       "56030       58030.0      111789.0         3404.0        260816.0   \n",
       "\n",
       "       biweekly_deaths  \n",
       "55696              NaN  \n",
       "55697              NaN  \n",
       "55698              NaN  \n",
       "55699              NaN  \n",
       "55700              NaN  \n",
       "...                ...  \n",
       "56026           6068.0  \n",
       "56027           6168.0  \n",
       "56028           6103.0  \n",
       "56029           6247.0  \n",
       "56030           6264.0  \n",
       "\n",
       "[335 rows x 10 columns]"
      ]
     },
     "execution_count": 205,
     "metadata": {},
     "output_type": "execute_result"
    }
   ],
   "source": [
    "United_States_df\n",
    "Russia_df\n",
    "United_Kingdom_df"
   ]
  },
  {
   "cell_type": "code",
   "execution_count": 208,
   "metadata": {},
   "outputs": [
    {
     "data": {
      "text/html": [
       "<table class=\"simpletable\">\n",
       "<caption>OLS Regression Results</caption>\n",
       "<tr>\n",
       "  <th>Dep. Variable:</th>      <td>total_deaths</td>   <th>  R-squared:         </th> <td>   0.901</td> \n",
       "</tr>\n",
       "<tr>\n",
       "  <th>Model:</th>                   <td>OLS</td>       <th>  Adj. R-squared:    </th> <td>   0.901</td> \n",
       "</tr>\n",
       "<tr>\n",
       "  <th>Method:</th>             <td>Least Squares</td>  <th>  F-statistic:       </th> <td>   2478.</td> \n",
       "</tr>\n",
       "<tr>\n",
       "  <th>Date:</th>             <td>Fri, 05 Mar 2021</td> <th>  Prob (F-statistic):</th> <td>1.17e-138</td>\n",
       "</tr>\n",
       "<tr>\n",
       "  <th>Time:</th>                 <td>13:51:24</td>     <th>  Log-Likelihood:    </th> <td> -3162.5</td> \n",
       "</tr>\n",
       "<tr>\n",
       "  <th>No. Observations:</th>      <td>   274</td>      <th>  AIC:               </th> <td>   6329.</td> \n",
       "</tr>\n",
       "<tr>\n",
       "  <th>Df Residuals:</th>          <td>   272</td>      <th>  BIC:               </th> <td>   6336.</td> \n",
       "</tr>\n",
       "<tr>\n",
       "  <th>Df Model:</th>              <td>     1</td>      <th>                     </th>     <td> </td>    \n",
       "</tr>\n",
       "<tr>\n",
       "  <th>Covariance Type:</th>      <td>nonrobust</td>    <th>                     </th>     <td> </td>    \n",
       "</tr>\n",
       "</table>\n",
       "<table class=\"simpletable\">\n",
       "<tr>\n",
       "       <td></td>          <th>coef</th>     <th>std err</th>      <th>t</th>      <th>P>|t|</th>  <th>[0.025</th>    <th>0.975]</th>  \n",
       "</tr>\n",
       "<tr>\n",
       "  <th>Intercept</th>   <td> 4.139e+04</td> <td> 2374.055</td> <td>   17.433</td> <td> 0.000</td> <td> 3.67e+04</td> <td> 4.61e+04</td>\n",
       "</tr>\n",
       "<tr>\n",
       "  <th>total_cases</th> <td>    0.0214</td> <td>    0.000</td> <td>   49.775</td> <td> 0.000</td> <td>    0.021</td> <td>    0.022</td>\n",
       "</tr>\n",
       "</table>\n",
       "<table class=\"simpletable\">\n",
       "<tr>\n",
       "  <th>Omnibus:</th>       <td>45.424</td> <th>  Durbin-Watson:     </th> <td>   0.001</td>\n",
       "</tr>\n",
       "<tr>\n",
       "  <th>Prob(Omnibus):</th> <td> 0.000</td> <th>  Jarque-Bera (JB):  </th> <td>  33.379</td>\n",
       "</tr>\n",
       "<tr>\n",
       "  <th>Skew:</th>          <td>-0.745</td> <th>  Prob(JB):          </th> <td>5.65e-08</td>\n",
       "</tr>\n",
       "<tr>\n",
       "  <th>Kurtosis:</th>      <td> 2.162</td> <th>  Cond. No.          </th> <td>8.68e+06</td>\n",
       "</tr>\n",
       "</table><br/><br/>Notes:<br/>[1] Standard Errors assume that the covariance matrix of the errors is correctly specified.<br/>[2] The condition number is large, 8.68e+06. This might indicate that there are<br/>strong multicollinearity or other numerical problems."
      ],
      "text/plain": [
       "<class 'statsmodels.iolib.summary.Summary'>\n",
       "\"\"\"\n",
       "                            OLS Regression Results                            \n",
       "==============================================================================\n",
       "Dep. Variable:           total_deaths   R-squared:                       0.901\n",
       "Model:                            OLS   Adj. R-squared:                  0.901\n",
       "Method:                 Least Squares   F-statistic:                     2478.\n",
       "Date:                Fri, 05 Mar 2021   Prob (F-statistic):          1.17e-138\n",
       "Time:                        13:51:24   Log-Likelihood:                -3162.5\n",
       "No. Observations:                 274   AIC:                             6329.\n",
       "Df Residuals:                     272   BIC:                             6336.\n",
       "Df Model:                           1                                         \n",
       "Covariance Type:            nonrobust                                         \n",
       "===============================================================================\n",
       "                  coef    std err          t      P>|t|      [0.025      0.975]\n",
       "-------------------------------------------------------------------------------\n",
       "Intercept    4.139e+04   2374.055     17.433      0.000    3.67e+04    4.61e+04\n",
       "total_cases     0.0214      0.000     49.775      0.000       0.021       0.022\n",
       "==============================================================================\n",
       "Omnibus:                       45.424   Durbin-Watson:                   0.001\n",
       "Prob(Omnibus):                  0.000   Jarque-Bera (JB):               33.379\n",
       "Skew:                          -0.745   Prob(JB):                     5.65e-08\n",
       "Kurtosis:                       2.162   Cond. No.                     8.68e+06\n",
       "==============================================================================\n",
       "\n",
       "Notes:\n",
       "[1] Standard Errors assume that the covariance matrix of the errors is correctly specified.\n",
       "[2] The condition number is large, 8.68e+06. This might indicate that there are\n",
       "strong multicollinearity or other numerical problems.\n",
       "\"\"\""
      ]
     },
     "execution_count": 208,
     "metadata": {},
     "output_type": "execute_result"
    },
    {
     "data": {
      "text/html": [
       "<table class=\"simpletable\">\n",
       "<caption>OLS Regression Results</caption>\n",
       "<tr>\n",
       "  <th>Dep. Variable:</th>      <td>total_deaths</td>   <th>  R-squared:         </th> <td>   0.994</td> \n",
       "</tr>\n",
       "<tr>\n",
       "  <th>Model:</th>                   <td>OLS</td>       <th>  Adj. R-squared:    </th> <td>   0.994</td> \n",
       "</tr>\n",
       "<tr>\n",
       "  <th>Method:</th>             <td>Least Squares</td>  <th>  F-statistic:       </th> <td>4.438e+04</td>\n",
       "</tr>\n",
       "<tr>\n",
       "  <th>Date:</th>             <td>Fri, 05 Mar 2021</td> <th>  Prob (F-statistic):</th> <td>7.73e-280</td>\n",
       "</tr>\n",
       "<tr>\n",
       "  <th>Time:</th>                 <td>13:51:24</td>     <th>  Log-Likelihood:    </th> <td> -2003.5</td> \n",
       "</tr>\n",
       "<tr>\n",
       "  <th>No. Observations:</th>      <td>   248</td>      <th>  AIC:               </th> <td>   4011.</td> \n",
       "</tr>\n",
       "<tr>\n",
       "  <th>Df Residuals:</th>          <td>   246</td>      <th>  BIC:               </th> <td>   4018.</td> \n",
       "</tr>\n",
       "<tr>\n",
       "  <th>Df Model:</th>              <td>     1</td>      <th>                     </th>     <td> </td>    \n",
       "</tr>\n",
       "<tr>\n",
       "  <th>Covariance Type:</th>      <td>nonrobust</td>    <th>                     </th>     <td> </td>    \n",
       "</tr>\n",
       "</table>\n",
       "<table class=\"simpletable\">\n",
       "<tr>\n",
       "       <td></td>          <th>coef</th>     <th>std err</th>      <th>t</th>      <th>P>|t|</th>  <th>[0.025</th>    <th>0.975]</th>  \n",
       "</tr>\n",
       "<tr>\n",
       "  <th>Intercept</th>   <td>-1324.5672</td> <td>   87.097</td> <td>  -15.208</td> <td> 0.000</td> <td>-1496.118</td> <td>-1153.016</td>\n",
       "</tr>\n",
       "<tr>\n",
       "  <th>total_cases</th> <td>    0.0181</td> <td> 8.58e-05</td> <td>  210.675</td> <td> 0.000</td> <td>    0.018</td> <td>    0.018</td>\n",
       "</tr>\n",
       "</table>\n",
       "<table class=\"simpletable\">\n",
       "<tr>\n",
       "  <th>Omnibus:</th>       <td>40.120</td> <th>  Durbin-Watson:     </th> <td>   0.004</td>\n",
       "</tr>\n",
       "<tr>\n",
       "  <th>Prob(Omnibus):</th> <td> 0.000</td> <th>  Jarque-Bera (JB):  </th> <td>  12.461</td>\n",
       "</tr>\n",
       "<tr>\n",
       "  <th>Skew:</th>          <td>-0.264</td> <th>  Prob(JB):          </th> <td> 0.00197</td>\n",
       "</tr>\n",
       "<tr>\n",
       "  <th>Kurtosis:</th>      <td> 2.037</td> <th>  Cond. No.          </th> <td>1.78e+06</td>\n",
       "</tr>\n",
       "</table><br/><br/>Notes:<br/>[1] Standard Errors assume that the covariance matrix of the errors is correctly specified.<br/>[2] The condition number is large, 1.78e+06. This might indicate that there are<br/>strong multicollinearity or other numerical problems."
      ],
      "text/plain": [
       "<class 'statsmodels.iolib.summary.Summary'>\n",
       "\"\"\"\n",
       "                            OLS Regression Results                            \n",
       "==============================================================================\n",
       "Dep. Variable:           total_deaths   R-squared:                       0.994\n",
       "Model:                            OLS   Adj. R-squared:                  0.994\n",
       "Method:                 Least Squares   F-statistic:                 4.438e+04\n",
       "Date:                Fri, 05 Mar 2021   Prob (F-statistic):          7.73e-280\n",
       "Time:                        13:51:24   Log-Likelihood:                -2003.5\n",
       "No. Observations:                 248   AIC:                             4011.\n",
       "Df Residuals:                     246   BIC:                             4018.\n",
       "Df Model:                           1                                         \n",
       "Covariance Type:            nonrobust                                         \n",
       "===============================================================================\n",
       "                  coef    std err          t      P>|t|      [0.025      0.975]\n",
       "-------------------------------------------------------------------------------\n",
       "Intercept   -1324.5672     87.097    -15.208      0.000   -1496.118   -1153.016\n",
       "total_cases     0.0181   8.58e-05    210.675      0.000       0.018       0.018\n",
       "==============================================================================\n",
       "Omnibus:                       40.120   Durbin-Watson:                   0.004\n",
       "Prob(Omnibus):                  0.000   Jarque-Bera (JB):               12.461\n",
       "Skew:                          -0.264   Prob(JB):                      0.00197\n",
       "Kurtosis:                       2.037   Cond. No.                     1.78e+06\n",
       "==============================================================================\n",
       "\n",
       "Notes:\n",
       "[1] Standard Errors assume that the covariance matrix of the errors is correctly specified.\n",
       "[2] The condition number is large, 1.78e+06. This might indicate that there are\n",
       "strong multicollinearity or other numerical problems.\n",
       "\"\"\""
      ]
     },
     "execution_count": 208,
     "metadata": {},
     "output_type": "execute_result"
    },
    {
     "data": {
      "text/html": [
       "<table class=\"simpletable\">\n",
       "<caption>OLS Regression Results</caption>\n",
       "<tr>\n",
       "  <th>Dep. Variable:</th>      <td>total_deaths</td>   <th>  R-squared:         </th> <td>   0.479</td>\n",
       "</tr>\n",
       "<tr>\n",
       "  <th>Model:</th>                   <td>OLS</td>       <th>  Adj. R-squared:    </th> <td>   0.477</td>\n",
       "</tr>\n",
       "<tr>\n",
       "  <th>Method:</th>             <td>Least Squares</td>  <th>  F-statistic:       </th> <td>   244.7</td>\n",
       "</tr>\n",
       "<tr>\n",
       "  <th>Date:</th>             <td>Fri, 05 Mar 2021</td> <th>  Prob (F-statistic):</th> <td>1.50e-39</td>\n",
       "</tr>\n",
       "<tr>\n",
       "  <th>Time:</th>                 <td>13:51:24</td>     <th>  Log-Likelihood:    </th> <td> -2868.7</td>\n",
       "</tr>\n",
       "<tr>\n",
       "  <th>No. Observations:</th>      <td>   268</td>      <th>  AIC:               </th> <td>   5741.</td>\n",
       "</tr>\n",
       "<tr>\n",
       "  <th>Df Residuals:</th>          <td>   266</td>      <th>  BIC:               </th> <td>   5749.</td>\n",
       "</tr>\n",
       "<tr>\n",
       "  <th>Df Model:</th>              <td>     1</td>      <th>                     </th>     <td> </td>   \n",
       "</tr>\n",
       "<tr>\n",
       "  <th>Covariance Type:</th>      <td>nonrobust</td>    <th>                     </th>     <td> </td>   \n",
       "</tr>\n",
       "</table>\n",
       "<table class=\"simpletable\">\n",
       "<tr>\n",
       "       <td></td>          <th>coef</th>     <th>std err</th>      <th>t</th>      <th>P>|t|</th>  <th>[0.025</th>    <th>0.975]</th>  \n",
       "</tr>\n",
       "<tr>\n",
       "  <th>Intercept</th>   <td> 2.357e+04</td> <td>  969.288</td> <td>   24.315</td> <td> 0.000</td> <td> 2.17e+04</td> <td> 2.55e+04</td>\n",
       "</tr>\n",
       "<tr>\n",
       "  <th>total_cases</th> <td>    0.0274</td> <td>    0.002</td> <td>   15.641</td> <td> 0.000</td> <td>    0.024</td> <td>    0.031</td>\n",
       "</tr>\n",
       "</table>\n",
       "<table class=\"simpletable\">\n",
       "<tr>\n",
       "  <th>Omnibus:</th>       <td>36.542</td> <th>  Durbin-Watson:     </th> <td>   0.001</td>\n",
       "</tr>\n",
       "<tr>\n",
       "  <th>Prob(Omnibus):</th> <td> 0.000</td> <th>  Jarque-Bera (JB):  </th> <td>  48.906</td>\n",
       "</tr>\n",
       "<tr>\n",
       "  <th>Skew:</th>          <td>-1.041</td> <th>  Prob(JB):          </th> <td>2.40e-11</td>\n",
       "</tr>\n",
       "<tr>\n",
       "  <th>Kurtosis:</th>      <td> 2.792</td> <th>  Cond. No.          </th> <td>8.10e+05</td>\n",
       "</tr>\n",
       "</table><br/><br/>Notes:<br/>[1] Standard Errors assume that the covariance matrix of the errors is correctly specified.<br/>[2] The condition number is large, 8.1e+05. This might indicate that there are<br/>strong multicollinearity or other numerical problems."
      ],
      "text/plain": [
       "<class 'statsmodels.iolib.summary.Summary'>\n",
       "\"\"\"\n",
       "                            OLS Regression Results                            \n",
       "==============================================================================\n",
       "Dep. Variable:           total_deaths   R-squared:                       0.479\n",
       "Model:                            OLS   Adj. R-squared:                  0.477\n",
       "Method:                 Least Squares   F-statistic:                     244.7\n",
       "Date:                Fri, 05 Mar 2021   Prob (F-statistic):           1.50e-39\n",
       "Time:                        13:51:24   Log-Likelihood:                -2868.7\n",
       "No. Observations:                 268   AIC:                             5741.\n",
       "Df Residuals:                     266   BIC:                             5749.\n",
       "Df Model:                           1                                         \n",
       "Covariance Type:            nonrobust                                         \n",
       "===============================================================================\n",
       "                  coef    std err          t      P>|t|      [0.025      0.975]\n",
       "-------------------------------------------------------------------------------\n",
       "Intercept    2.357e+04    969.288     24.315      0.000    2.17e+04    2.55e+04\n",
       "total_cases     0.0274      0.002     15.641      0.000       0.024       0.031\n",
       "==============================================================================\n",
       "Omnibus:                       36.542   Durbin-Watson:                   0.001\n",
       "Prob(Omnibus):                  0.000   Jarque-Bera (JB):               48.906\n",
       "Skew:                          -1.041   Prob(JB):                     2.40e-11\n",
       "Kurtosis:                       2.792   Cond. No.                     8.10e+05\n",
       "==============================================================================\n",
       "\n",
       "Notes:\n",
       "[1] Standard Errors assume that the covariance matrix of the errors is correctly specified.\n",
       "[2] The condition number is large, 8.1e+05. This might indicate that there are\n",
       "strong multicollinearity or other numerical problems.\n",
       "\"\"\""
      ]
     },
     "execution_count": 208,
     "metadata": {},
     "output_type": "execute_result"
    }
   ],
   "source": [
    "import statsmodels.formula.api as smf # Importing statsmodel to create the model for total_deaths as a function \n",
    "\n",
    "formula = 'total_deaths ~ total_cases'\n",
    "model = smf.ols(formula, data=United_States_df)\n",
    "results = model.fit()\n",
    "results.summary()\n",
    "\n",
    "formula = 'total_deaths ~ total_cases'\n",
    "model = smf.ols(formula, data=Russia_df)\n",
    "results = model.fit()\n",
    "results.summary()\n",
    "\n",
    "formula = 'total_deaths ~ total_cases'\n",
    "model = smf.ols(formula, data=United_Kingdom_df)\n",
    "results = model.fit()\n",
    "results.summary()"
   ]
  },
  {
   "cell_type": "code",
   "execution_count": null,
   "metadata": {},
   "outputs": [],
   "source": [
    "# These are the results of the regression in which total deaths is measured against total cases. \n",
    "# For the United States with a P-Value of ~0.02% provides it is an accurate predictor of covid related death. \n",
    "# For Russia with a P-Value of ~0.018 it is also an accurate predictor of covid related deaths.\n",
    "# For the United Kingdom which has a P-Value of 0.031 it is also a accurate predictor of covid related death. "
   ]
  }
 ],
 "metadata": {
  "kernelspec": {
   "display_name": "Python 3",
   "language": "python",
   "name": "python3"
  },
  "language_info": {
   "codemirror_mode": {
    "name": "ipython",
    "version": 3
   },
   "file_extension": ".py",
   "mimetype": "text/x-python",
   "name": "python",
   "nbconvert_exporter": "python",
   "pygments_lexer": "ipython3",
   "version": "3.8.5"
  }
 },
 "nbformat": 4,
 "nbformat_minor": 4
}
